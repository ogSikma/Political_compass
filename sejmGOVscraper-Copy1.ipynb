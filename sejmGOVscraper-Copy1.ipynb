{
 "cells": [
  {
   "cell_type": "code",
   "execution_count": 1,
   "id": "b28f7778-a85a-47df-b0ae-085635acda2b",
   "metadata": {
    "scrolled": true
   },
   "outputs": [
    {
     "name": "stderr",
     "output_type": "stream",
     "text": [
      "C:\\Users\\Sikma\\AppData\\Roaming\\Python\\Python312\\site-packages\\transformers\\utils\\hub.py:128: FutureWarning: Using `TRANSFORMERS_CACHE` is deprecated and will be removed in v5 of Transformers. Use `HF_HOME` instead.\n",
      "  warnings.warn(\n"
     ]
    },
    {
     "name": "stdout",
     "output_type": "stream",
     "text": [
      "WARNING:tensorflow:From I:\\Anaconda\\Lib\\site-packages\\tf_keras\\src\\losses.py:2976: The name tf.losses.sparse_softmax_cross_entropy is deprecated. Please use tf.compat.v1.losses.sparse_softmax_cross_entropy instead.\n",
      "\n"
     ]
    }
   ],
   "source": [
    "import requests\n",
    "from bs4 import BeautifulSoup\n",
    "from sklearn.metrics.pairwise import cosine_similarity\n",
    "import pandas as pd\n",
    "import numpy as np\n",
    "import time\n",
    "import os\n",
    "\n",
    "from sentence_transformers import SentenceTransformer"
   ]
  },
  {
   "cell_type": "markdown",
   "id": "0d004e23-8370-4b3a-a0f8-dd1e03022cea",
   "metadata": {
    "jp-MarkdownHeadingCollapsed": true
   },
   "source": [
    "# Scrapping danych i zapis"
   ]
  },
  {
   "cell_type": "markdown",
   "id": "41a63398-18d8-4252-9700-b459daf2e12d",
   "metadata": {
    "jp-MarkdownHeadingCollapsed": true
   },
   "source": [
    "## Utworzenie dataframe i słownika dat\n",
    "utworzenie pustego dataframe politicians_df z potrzebnymi kolumnami i stworzenie słownika ze wszystkimi datami i posiedzeniami sejmu"
   ]
  },
  {
   "cell_type": "code",
   "execution_count": 2,
   "id": "12b71249-f11d-45c8-a692-f3394b52c0bc",
   "metadata": {},
   "outputs": [],
   "source": [
    "politicians_df = pd.DataFrame(columns=[\"politician\", \"political_club\", \"utterance\", \"sejm_session\", \"date\"])"
   ]
  },
  {
   "cell_type": "code",
   "execution_count": 3,
   "id": "68c5d0a1-f8e0-4d94-8f9b-24a534dbf9a2",
   "metadata": {},
   "outputs": [],
   "source": [
    "gov_meetings_dict = {\n",
    "    \"2023-11-13\": [1],\n",
    "    \"2023-11-14\": [1],\n",
    "    \"2023-11-21\": [1],\n",
    "    \"2023-11-22\": [1],\n",
    "    \"2023-11-28\": [1],\n",
    "    \"2023-11-29\": [1],\n",
    "    \"2023-12-06\": [1],\n",
    "    \"2023-12-07\": [1],\n",
    "    \"2023-12-11\": [1],\n",
    "    \"2023-12-12\": [1],\n",
    "    \"2023-12-19\": [1],\n",
    "    \"2023-12-20\": [1],\n",
    "    \"2023-12-21\": [1],\n",
    "    \"2024-01-16\": [2],\n",
    "    \"2024-01-17\": [2],\n",
    "    \"2024-01-18\": [3],\n",
    "    \"2024-01-25\": [4],\n",
    "    \"2024-01-26\": [4],\n",
    "    \"2024-02-07\": [5],\n",
    "    \"2024-02-08\": [5],\n",
    "    \"2024-02-09\": [5],\n",
    "    \"2024-02-21\": [6],\n",
    "    \"2024-02-22\": [6],\n",
    "    \"2024-03-06\": [7],\n",
    "    \"2024-03-07\": [7],\n",
    "    \"2024-03-08\": [7],\n",
    "    \"2024-03-20\": [8],\n",
    "    \"2024-03-21\": [8],\n",
    "    \"2024-04-10\": [9],\n",
    "    \"2024-04-11\": [9],\n",
    "    \"2024-04-12\": [9],\n",
    "    \"2024-04-24\": [10],\n",
    "    \"2024-04-25\": [10],\n",
    "    \"2024-04-26\": [10],\n",
    "    \"2024-05-08\": [11],\n",
    "    \"2024-05-09\": [11],\n",
    "    \"2024-05-15\": [11],\n",
    "    \"2024-05-22\": [12],\n",
    "    \"2024-05-23\": [12],\n",
    "    \"2024-06-12\": [13],\n",
    "    \"2024-06-13\": [13],\n",
    "    \"2024-06-14\": [13],\n",
    "    \"2024-06-26\": [14],\n",
    "    \"2024-06-27\": [14],\n",
    "    \"2024-06-28\": [14],\n",
    "    \"2024-07-11\": [15],\n",
    "    \"2024-07-12\": [15],\n",
    "    \"2024-07-23\": [16],\n",
    "    \"2024-07-24\": [16],\n",
    "    \"2024-07-25\": [16],\n",
    "    \"2024-07-26\": [16],\n",
    "    \"2024-09-11\": [17],\n",
    "    \"2024-09-12\": [17],\n",
    "    \"2024-09-13\": [17],\n",
    "    \"2024-09-25\": [18],\n",
    "    \"2024-09-26\": [18],\n",
    "    \"2024-09-27\": [18],\n",
    "    \"2024-10-01\": [18],\n",
    "    \"2024-10-09\": [19],\n",
    "    \"2024-10-10\": [19],\n",
    "    \"2024-10-11\": [19],\n",
    "    \"2024-10-16\": [20],\n",
    "    \"2024-10-17\": [20],\n",
    "    \"2024-10-18\": [20],\n",
    "    \"2024-11-06\": [21],\n",
    "    \"2024-11-07\": [21],\n",
    "    \"2024-11-08\": [21],\n",
    "    \"2024-11-19\": [22],\n",
    "    \"2024-11-20\": [22],\n",
    "    \"2024-11-21\": [22],\n",
    "    \"2024-11-22\": [22],\n",
    "    \"2024-11-27\": [22],\n",
    "    \"2024-12-04\": [23],\n",
    "    \"2024-12-05\": [23],\n",
    "    \"2024-12-06\": [24],\n",
    "    \"2024-12-18\": [25],\n",
    "    \"2024-12-19\": [25],\n",
    "    \"2024-12-20\": [25],\n",
    "    \"2025-01-08\": [26],\n",
    "    \"2025-01-09\": [26],\n",
    "    \"2025-01-10\": [26],\n",
    "    \"2025-01-22\": [27],\n",
    "    \"2025-01-23\": [27],\n",
    "    \"2025-01-24\": [27]\n",
    "}\n"
   ]
  },
  {
   "cell_type": "markdown",
   "id": "ac623e7e-d5e8-40b9-a3a9-483b97651b1e",
   "metadata": {
    "jp-MarkdownHeadingCollapsed": true
   },
   "source": [
    "## Scrapping danych przy użyciu sejmowego API\n",
    "- przeiterowanie po każdej dacie i numerze posiedzenia sejmu,\n",
    "- stworzenie URL do API sejmu zawierającego konkretną datę oraz posiedzenie i pobranie każdej wypowiedzi z danego zebrania\n",
    "- wyjęcie z 'h2' polityka (politician)\n",
    "- wyjęcie zmiędzy paragrafów 'p' wypowiedzi (utterance)\n",
    "- zapisanie wszystkiego do politicians_df"
   ]
  },
  {
   "cell_type": "code",
   "execution_count": 4,
   "id": "174fd323-ac2a-49e6-aec1-ad3e2d7a0287",
   "metadata": {
    "scrolled": true
   },
   "outputs": [
    {
     "name": "stdout",
     "output_type": "stream",
     "text": [
      "Koniec wypowiedzi. Odnotowano: 43 przemówień\n",
      "Czas posiedzenia nr 1 o dacie 2023-11-13: 26.31 sekundy \n",
      "\n",
      "Koniec wypowiedzi. Odnotowano: 18 przemówień\n",
      "Czas posiedzenia nr 1 o dacie 2023-11-14: 10.34 sekundy \n",
      "\n",
      "Koniec wypowiedzi. Odnotowano: 33 przemówień\n",
      "Czas posiedzenia nr 1 o dacie 2023-11-21: 18.40 sekundy \n",
      "\n",
      "Koniec wypowiedzi. Odnotowano: 116 przemówień\n",
      "Czas posiedzenia nr 1 o dacie 2023-11-22: 67.61 sekundy \n",
      "\n",
      "Koniec wypowiedzi. Odnotowano: 191 przemówień\n",
      "Czas posiedzenia nr 1 o dacie 2023-11-28: 105.04 sekundy \n",
      "\n",
      "Koniec wypowiedzi. Odnotowano: 238 przemówień\n",
      "Czas posiedzenia nr 1 o dacie 2023-11-29: 136.37 sekundy \n",
      "\n",
      "Koniec wypowiedzi. Odnotowano: 156 przemówień\n",
      "Czas posiedzenia nr 1 o dacie 2023-12-06: 85.88 sekundy \n",
      "\n",
      "Koniec wypowiedzi. Odnotowano: 185 przemówień\n",
      "Czas posiedzenia nr 1 o dacie 2023-12-07: 106.51 sekundy \n",
      "\n",
      "Koniec wypowiedzi. Odnotowano: 161 przemówień\n",
      "Czas posiedzenia nr 1 o dacie 2023-12-11: 89.25 sekundy \n",
      "\n",
      "Koniec wypowiedzi. Odnotowano: 268 przemówień\n",
      "Czas posiedzenia nr 1 o dacie 2023-12-12: 171.69 sekundy \n",
      "\n",
      "Koniec wypowiedzi. Odnotowano: 163 przemówień\n",
      "Czas posiedzenia nr 1 o dacie 2023-12-19: 103.36 sekundy \n",
      "\n",
      "Koniec wypowiedzi. Odnotowano: 139 przemówień\n",
      "Czas posiedzenia nr 1 o dacie 2023-12-20: 81.83 sekundy \n",
      "\n",
      "Koniec wypowiedzi. Odnotowano: 217 przemówień\n",
      "Czas posiedzenia nr 1 o dacie 2023-12-21: 120.58 sekundy \n",
      "\n",
      "Koniec wypowiedzi. Odnotowano: 191 przemówień\n",
      "Czas posiedzenia nr 2 o dacie 2024-01-16: 106.08 sekundy \n",
      "\n",
      "Koniec wypowiedzi. Odnotowano: 158 przemówień\n",
      "Czas posiedzenia nr 2 o dacie 2024-01-17: 92.77 sekundy \n",
      "\n",
      "Koniec wypowiedzi. Odnotowano: 53 przemówień\n",
      "Czas posiedzenia nr 3 o dacie 2024-01-18: 29.68 sekundy \n",
      "\n",
      "Koniec wypowiedzi. Odnotowano: 172 przemówień\n",
      "Czas posiedzenia nr 4 o dacie 2024-01-25: 96.38 sekundy \n",
      "\n",
      "Koniec wypowiedzi. Odnotowano: 189 przemówień\n",
      "Czas posiedzenia nr 4 o dacie 2024-01-26: 98.98 sekundy \n",
      "\n",
      "Koniec wypowiedzi. Odnotowano: 169 przemówień\n",
      "Czas posiedzenia nr 5 o dacie 2024-02-07: 88.36 sekundy \n",
      "\n",
      "Koniec wypowiedzi. Odnotowano: 248 przemówień\n",
      "Czas posiedzenia nr 5 o dacie 2024-02-08: 126.60 sekundy \n",
      "\n",
      "Koniec wypowiedzi. Odnotowano: 99 przemówień\n",
      "Czas posiedzenia nr 5 o dacie 2024-02-09: 52.94 sekundy \n",
      "\n",
      "Koniec wypowiedzi. Odnotowano: 141 przemówień\n",
      "Czas posiedzenia nr 6 o dacie 2024-02-21: 75.24 sekundy \n",
      "\n",
      "Koniec wypowiedzi. Odnotowano: 204 przemówień\n",
      "Czas posiedzenia nr 6 o dacie 2024-02-22: 106.37 sekundy \n",
      "\n",
      "Koniec wypowiedzi. Odnotowano: 244 przemówień\n",
      "Czas posiedzenia nr 7 o dacie 2024-03-06: 129.92 sekundy \n",
      "\n",
      "Koniec wypowiedzi. Odnotowano: 245 przemówień\n",
      "Czas posiedzenia nr 7 o dacie 2024-03-07: 128.48 sekundy \n",
      "\n",
      "Koniec wypowiedzi. Odnotowano: 60 przemówień\n",
      "Czas posiedzenia nr 7 o dacie 2024-03-08: 38.80 sekundy \n",
      "\n",
      "Koniec wypowiedzi. Odnotowano: 202 przemówień\n",
      "Czas posiedzenia nr 8 o dacie 2024-03-20: 104.58 sekundy \n",
      "\n",
      "Koniec wypowiedzi. Odnotowano: 128 przemówień\n",
      "Czas posiedzenia nr 8 o dacie 2024-03-21: 66.23 sekundy \n",
      "\n",
      "Koniec wypowiedzi. Odnotowano: 165 przemówień\n",
      "Czas posiedzenia nr 9 o dacie 2024-04-10: 86.44 sekundy \n",
      "\n",
      "Koniec wypowiedzi. Odnotowano: 264 przemówień\n",
      "Czas posiedzenia nr 9 o dacie 2024-04-11: 138.65 sekundy \n",
      "\n",
      "Koniec wypowiedzi. Odnotowano: 129 przemówień\n",
      "Czas posiedzenia nr 9 o dacie 2024-04-12: 66.67 sekundy \n",
      "\n",
      "Koniec wypowiedzi. Odnotowano: 204 przemówień\n",
      "Czas posiedzenia nr 10 o dacie 2024-04-24: 119.05 sekundy \n",
      "\n",
      "Koniec wypowiedzi. Odnotowano: 137 przemówień\n",
      "Czas posiedzenia nr 10 o dacie 2024-04-25: 89.20 sekundy \n",
      "\n",
      "Koniec wypowiedzi. Odnotowano: 178 przemówień\n",
      "Czas posiedzenia nr 10 o dacie 2024-04-26: 115.93 sekundy \n",
      "\n",
      "Koniec wypowiedzi. Odnotowano: 207 przemówień\n",
      "Czas posiedzenia nr 11 o dacie 2024-05-08: 129.76 sekundy \n",
      "\n",
      "Koniec wypowiedzi. Odnotowano: 272 przemówień\n",
      "Czas posiedzenia nr 11 o dacie 2024-05-09: 159.87 sekundy \n",
      "\n",
      "Koniec wypowiedzi. Odnotowano: 240 przemówień\n",
      "Czas posiedzenia nr 11 o dacie 2024-05-15: 147.57 sekundy \n",
      "\n",
      "Koniec wypowiedzi. Odnotowano: 230 przemówień\n",
      "Czas posiedzenia nr 12 o dacie 2024-05-22: 131.32 sekundy \n",
      "\n",
      "Koniec wypowiedzi. Odnotowano: 174 przemówień\n",
      "Czas posiedzenia nr 12 o dacie 2024-05-23: 106.57 sekundy \n",
      "\n",
      "Koniec wypowiedzi. Odnotowano: 126 przemówień\n",
      "Czas posiedzenia nr 13 o dacie 2024-06-12: 76.49 sekundy \n",
      "\n",
      "Koniec wypowiedzi. Odnotowano: 243 przemówień\n",
      "Czas posiedzenia nr 13 o dacie 2024-06-13: 142.38 sekundy \n",
      "\n",
      "Koniec wypowiedzi. Odnotowano: 52 przemówień\n",
      "Czas posiedzenia nr 13 o dacie 2024-06-14: 29.37 sekundy \n",
      "\n",
      "Koniec wypowiedzi. Odnotowano: 1 przemówień\n",
      "Czas posiedzenia nr 14 o dacie 2024-06-26: 1.58 sekundy \n",
      "\n",
      "Koniec wypowiedzi. Odnotowano: 256 przemówień\n",
      "Czas posiedzenia nr 14 o dacie 2024-06-27: 146.88 sekundy \n",
      "\n",
      "Koniec wypowiedzi. Odnotowano: 96 przemówień\n",
      "Czas posiedzenia nr 14 o dacie 2024-06-28: 57.33 sekundy \n",
      "\n",
      "Koniec wypowiedzi. Odnotowano: 245 przemówień\n",
      "Czas posiedzenia nr 15 o dacie 2024-07-11: 147.22 sekundy \n",
      "\n",
      "Koniec wypowiedzi. Odnotowano: 143 przemówień\n",
      "Czas posiedzenia nr 15 o dacie 2024-07-12: 84.30 sekundy \n",
      "\n",
      "Koniec wypowiedzi. Odnotowano: 230 przemówień\n",
      "Czas posiedzenia nr 16 o dacie 2024-07-23: 133.17 sekundy \n",
      "\n",
      "Koniec wypowiedzi. Odnotowano: 256 przemówień\n",
      "Czas posiedzenia nr 16 o dacie 2024-07-24: 144.73 sekundy \n",
      "\n",
      "Koniec wypowiedzi. Odnotowano: 203 przemówień\n",
      "Czas posiedzenia nr 16 o dacie 2024-07-25: 118.48 sekundy \n",
      "\n",
      "Koniec wypowiedzi. Odnotowano: 160 przemówień\n",
      "Czas posiedzenia nr 16 o dacie 2024-07-26: 93.64 sekundy \n",
      "\n",
      "Koniec wypowiedzi. Odnotowano: 176 przemówień\n",
      "Czas posiedzenia nr 17 o dacie 2024-09-11: 105.79 sekundy \n",
      "\n",
      "Koniec wypowiedzi. Odnotowano: 228 przemówień\n",
      "Czas posiedzenia nr 17 o dacie 2024-09-12: 134.29 sekundy \n",
      "\n",
      "Koniec wypowiedzi. Odnotowano: 185 przemówień\n",
      "Czas posiedzenia nr 17 o dacie 2024-09-13: 113.05 sekundy \n",
      "\n",
      "Koniec wypowiedzi. Odnotowano: 211 przemówień\n",
      "Czas posiedzenia nr 18 o dacie 2024-09-25: 122.97 sekundy \n",
      "\n",
      "Koniec wypowiedzi. Odnotowano: 327 przemówień\n",
      "Czas posiedzenia nr 18 o dacie 2024-09-26: 199.48 sekundy \n",
      "\n",
      "Koniec wypowiedzi. Odnotowano: 171 przemówień\n",
      "Czas posiedzenia nr 18 o dacie 2024-09-27: 100.41 sekundy \n",
      "\n",
      "Koniec wypowiedzi. Odnotowano: 294 przemówień\n",
      "Czas posiedzenia nr 18 o dacie 2024-10-01: 169.09 sekundy \n",
      "\n",
      "Koniec wypowiedzi. Odnotowano: 152 przemówień\n",
      "Czas posiedzenia nr 19 o dacie 2024-10-09: 90.62 sekundy \n",
      "\n",
      "Koniec wypowiedzi. Odnotowano: 254 przemówień\n",
      "Czas posiedzenia nr 19 o dacie 2024-10-10: 148.16 sekundy \n",
      "\n",
      "Koniec wypowiedzi. Odnotowano: 177 przemówień\n",
      "Czas posiedzenia nr 19 o dacie 2024-10-11: 103.19 sekundy \n",
      "\n",
      "Koniec wypowiedzi. Odnotowano: 180 przemówień\n",
      "Czas posiedzenia nr 20 o dacie 2024-10-16: 104.99 sekundy \n",
      "\n",
      "Koniec wypowiedzi. Odnotowano: 279 przemówień\n",
      "Czas posiedzenia nr 20 o dacie 2024-10-17: 189.19 sekundy \n",
      "\n",
      "Koniec wypowiedzi. Odnotowano: 72 przemówień\n",
      "Czas posiedzenia nr 20 o dacie 2024-10-18: 42.03 sekundy \n",
      "\n",
      "Koniec wypowiedzi. Odnotowano: 234 przemówień\n",
      "Czas posiedzenia nr 21 o dacie 2024-11-06: 142.01 sekundy \n",
      "\n",
      "Koniec wypowiedzi. Odnotowano: 326 przemówień\n",
      "Czas posiedzenia nr 21 o dacie 2024-11-07: 211.58 sekundy \n",
      "\n",
      "Koniec wypowiedzi. Odnotowano: 271 przemówień\n",
      "Czas posiedzenia nr 21 o dacie 2024-11-08: 182.36 sekundy \n",
      "\n",
      "Koniec wypowiedzi. Odnotowano: 232 przemówień\n",
      "Czas posiedzenia nr 22 o dacie 2024-11-19: 158.49 sekundy \n",
      "\n",
      "Koniec wypowiedzi. Odnotowano: 349 przemówień\n",
      "Czas posiedzenia nr 22 o dacie 2024-11-20: 228.77 sekundy \n",
      "\n",
      "Koniec wypowiedzi. Odnotowano: 306 przemówień\n",
      "Czas posiedzenia nr 22 o dacie 2024-11-21: 194.76 sekundy \n",
      "\n",
      "Koniec wypowiedzi. Odnotowano: 196 przemówień\n",
      "Czas posiedzenia nr 22 o dacie 2024-11-22: 117.23 sekundy \n",
      "\n",
      "Koniec wypowiedzi. Odnotowano: 285 przemówień\n",
      "Czas posiedzenia nr 22 o dacie 2024-11-27: 166.18 sekundy \n",
      "\n",
      "Koniec wypowiedzi. Odnotowano: 262 przemówień\n",
      "Czas posiedzenia nr 23 o dacie 2024-12-04: 135.41 sekundy \n",
      "\n",
      "Koniec wypowiedzi. Odnotowano: 303 przemówień\n",
      "Czas posiedzenia nr 23 o dacie 2024-12-05: 167.63 sekundy \n",
      "\n",
      "Koniec wypowiedzi. Odnotowano: 72 przemówień\n",
      "Czas posiedzenia nr 24 o dacie 2024-12-06: 43.03 sekundy \n",
      "\n",
      "Koniec wypowiedzi. Odnotowano: 188 przemówień\n",
      "Czas posiedzenia nr 25 o dacie 2024-12-18: 129.17 sekundy \n",
      "\n",
      "Koniec wypowiedzi. Odnotowano: 250 przemówień\n",
      "Czas posiedzenia nr 25 o dacie 2024-12-19: 139.01 sekundy \n",
      "\n",
      "Koniec wypowiedzi. Odnotowano: 83 przemówień\n",
      "Czas posiedzenia nr 25 o dacie 2024-12-20: 48.72 sekundy \n",
      "\n",
      "Koniec wypowiedzi. Odnotowano: 279 przemówień\n",
      "Czas posiedzenia nr 26 o dacie 2025-01-08: 157.17 sekundy \n",
      "\n",
      "Koniec wypowiedzi. Odnotowano: 246 przemówień\n",
      "Czas posiedzenia nr 26 o dacie 2025-01-09: 150.50 sekundy \n",
      "\n",
      "Koniec wypowiedzi. Odnotowano: 108 przemówień\n",
      "Czas posiedzenia nr 26 o dacie 2025-01-10: 62.17 sekundy \n",
      "\n",
      "Koniec wypowiedzi. Odnotowano: 225 przemówień\n",
      "Czas posiedzenia nr 27 o dacie 2025-01-22: 123.10 sekundy \n",
      "\n",
      "Koniec wypowiedzi. Odnotowano: 266 przemówień\n",
      "Czas posiedzenia nr 27 o dacie 2025-01-23: 158.57 sekundy \n",
      "\n",
      "Koniec wypowiedzi. Odnotowano: 133 przemówień\n",
      "Czas posiedzenia nr 27 o dacie 2025-01-24: 80.58 sekundy \n",
      "\n"
     ]
    }
   ],
   "source": [
    "for name, key in gov_meetings_dict.items():\n",
    "    for number in key:\n",
    "        i = 1\n",
    "        start_time = time.time()\n",
    "        while True:\n",
    "            url = f\"https://api.sejm.gov.pl/sejm/term10/proceedings/{number}/{name}/transcripts/{i}\"\n",
    "            page = requests.get(url)\n",
    "            soup = BeautifulSoup(page.text, 'html')\n",
    "        \n",
    "            element = soup.find('h2', class_='mowca')\n",
    "            if element is not None:\n",
    "                politician = element.text.strip()[:-1]\n",
    "            else:\n",
    "                print(f'Koniec wypowiedzi. Odnotowano: {i} przemówień')\n",
    "                break\n",
    "        \n",
    "            utterance_elements = []\n",
    "            for p in soup.find_all('p')[1:]:\n",
    "                utterance_elements.append(p.text.strip())\n",
    "            utterance = \"\".join(utterance_elements).strip()\n",
    "        \n",
    "            nowy_wiersz = pd.DataFrame({\"politician\": [politician], \n",
    "                                        \"utterance\": [utterance], \n",
    "                                        \"sejm_session\": [number], \n",
    "                                        \"date\": [name]})\n",
    "            politicians_df = pd.concat([politicians_df, nowy_wiersz], ignore_index=True)\n",
    "        \n",
    "            i = i+1\n",
    "        end_time = time.time()\n",
    "        print(f'Czas posiedzenia nr {number} o dacie {name}: {end_time-start_time:.2f} sekundy \\n')"
   ]
  },
  {
   "cell_type": "markdown",
   "id": "4e7ea679-8e65-402d-85a7-a77f843b4720",
   "metadata": {
    "jp-MarkdownHeadingCollapsed": true
   },
   "source": [
    "## Sprawdzenie poprawności dataframe\n",
    "różne informacje: pierwsza wartość, próbka, shape itp."
   ]
  },
  {
   "cell_type": "code",
   "execution_count": 5,
   "id": "6aca7447-bc52-42a2-9348-c74b9f803b60",
   "metadata": {},
   "outputs": [
    {
     "data": {
      "text/plain": [
       "'Prezydent Rzeczypospolitej Polskiej Andrzej Duda'"
      ]
     },
     "execution_count": 5,
     "metadata": {},
     "output_type": "execute_result"
    }
   ],
   "source": [
    "politicians_df.iloc[0,0]"
   ]
  },
  {
   "cell_type": "code",
   "execution_count": 6,
   "id": "969763d6-eaff-4c5c-a754-5960ed5e317e",
   "metadata": {},
   "outputs": [
    {
     "data": {
      "text/plain": [
       "'Szanowna Pani Marszałek! Szanowna Izbo! Zanim zostałem posłem, byłem radnym \\r\\nmiasta Częstochowy. To jest pierwsze miasto w Polsce, które wprowadziło in \\r\\nvitro w 2012 r. W 2015 r. był taki moment, że radni Częstochowy chcieli \\r\\nzaktualizować ten program, zwiększyć kwotę przyznawaną parom i klub Lewicy i \\r\\nPlatformy był za, a klub PiS-u był przeciw.W 2015 r. to głosy naszego częstochowskiego klubu, klubu mieszkańców \\r\\nCzęstochowy, zdecydowały o tym, że do tej pory w Częstochowie funkcjonuje in \\r\\nvitro i urodziło się 77 dzieci.Cieszę się, że historia zatacza koło, bo wtedy w Częstochowie mieliśmy duży \\r\\ndylemat przez to, że mieszkańcy, osoby zameldowane w Częstochowie mogą \\r\\nkorzystać z tego programu, a mieszkańcy sąsiednich gmin (Dzwonek) jak \\r\\nBlachownia, Koniecpol czy Lubliniec - nie. Cieszę się, że mogę to dzisiaj \\r\\nnaprawić i razem z państwem zagłosować za in vitro. Dziękuję bardzo. \\r\\n(Oklaski)'"
      ]
     },
     "execution_count": 6,
     "metadata": {},
     "output_type": "execute_result"
    }
   ],
   "source": [
    "politicians_df.sample().iloc[0,1]"
   ]
  },
  {
   "cell_type": "code",
   "execution_count": 8,
   "id": "0bf997d3-f27c-466f-a066-e163b04e551b",
   "metadata": {},
   "outputs": [
    {
     "data": {
      "text/plain": [
       "(15878, 4)"
      ]
     },
     "execution_count": 8,
     "metadata": {},
     "output_type": "execute_result"
    }
   ],
   "source": [
    "politicians_df.shape"
   ]
  },
  {
   "cell_type": "code",
   "execution_count": 9,
   "id": "46d97587-cf0b-401d-a028-3fb908caf23b",
   "metadata": {},
   "outputs": [
    {
     "data": {
      "text/plain": [
       "politician\n",
       "Poseł Witold Tumanowicz                                                                                                       360\n",
       "Poseł Jarosław Sachajko                                                                                                       322\n",
       "Poseł Zbigniew Bogucki                                                                                                        205\n",
       "Poseł Tadeusz Tomaszewski                                                                                                     199\n",
       "Poseł Grzegorz Braun                                                                                                          182\n",
       "                                                                                                                             ... \n",
       "Poseł Zbigniew Chmielowiec (tekst niewygłoszony)                                                                                1\n",
       "Poseł Sprawozdawca Alicja Chybicka                                                                                              1\n",
       "Poseł Sprawozdawca Aleksandra Kot                                                                                               1\n",
       "Poseł Sprawozdawca Agnieszka Maria Kłopotek                                                                                     1\n",
       "Członek Państwowej Komisji do spraw Przeciwdziałania Wykorzystaniu Seksualnemu Małoletnich Poniżej Lat 15 Joanna Napierała      1\n",
       "Length: 864, dtype: int64"
      ]
     },
     "execution_count": 9,
     "metadata": {},
     "output_type": "execute_result"
    }
   ],
   "source": [
    "politicians_df.groupby('politician').size().sort_values(ascending=False)"
   ]
  },
  {
   "cell_type": "markdown",
   "id": "8bf3176f-e81a-487f-a77c-ab26411c10dd",
   "metadata": {
    "jp-MarkdownHeadingCollapsed": true
   },
   "source": [
    "## Dodanie danych o partiach politycznych\n",
    "wykorzystanie sejmowego API do stworzenia słownika zawierającego partie polityczne i ich posłów, a następnie przeiterowanie po datasecie politicians_df aby nadać politykom ich kluby"
   ]
  },
  {
   "cell_type": "code",
   "execution_count": 2,
   "id": "91cf8a8f-0ea2-4814-a0ff-8a50099f2272",
   "metadata": {},
   "outputs": [],
   "source": [
    "url_politicians = \"https://api.sejm.gov.pl/sejm/term10/MP\"\n",
    "page_politicians = requests.get(url_politicians)\n",
    "political_parties_data = page_politicians.json()"
   ]
  },
  {
   "cell_type": "code",
   "execution_count": 12,
   "id": "72c2de45-267d-4b8d-aa1c-c955843b3d6d",
   "metadata": {},
   "outputs": [
    {
     "name": "stdout",
     "output_type": "stream",
     "text": [
      "PiS: Andrzej Adamczyk, Adam Andruszkiewicz, Waldemar Andzel, Dorota Arciszewska-Mielewczyk, Iwona Ewa Arent, Marek Ast, Piotr Babinetz, Ryszard Bartosik, Barbara Bartuś, Mariusz Błaszczak, Rafał Bochenek, Jacek Bogucki, Zbigniew Bogucki, Joanna Borowiak, Kamil Bortniczuk, Bożena Borys-Szopa, Waldemar Buda, Lidia Burzyńska, Zbigniew Chmielowiec, Artur Chojecki, Kazimierz Bogusław Choma, Dominika Chorosińska, Tadeusz Chrzan, Anna Ewa Cicholska, Krzysztof Ciecióra, Janusz Cieszyński, Michał Cieślak, Krzysztof Czarnecki, Witold Wojciech Czarnecki, Przemysław Czarnek, Arkadiusz Czartoryski, Anita Czerwińska, Katarzyna Czochara, Władysław Dajczak, Anna Dąbrowska-Banaszek, Zbigniew Dolata, Bartłomiej Dorywalski, Przemysław Drabek, Elżbieta Duda, Michał Paweł Dworczyk, Jan Michał Dziedziczak, Magdalena Filipek-Sobczak, Radosław Fogiel, Andrzej Gawron, Grzegorz Gaża, Anna Gembicka, Szymon Giżyński, Piotr Gliński, Małgorzata Golińska, Kazimierz Gołojuch, Robert Gontarz, Mariusz Gosek, Małgorzata Gosiewska, Agnieszka Górska, Marcin Grabowski, Marek Gróbarczyk, Andrzej Gut-Mostowy, Kazimierz Gwiazdowski, Marcin Gwóźdź, Czesław Hoc, Zbigniew Hoffmann, Marcin Horała, Paweł Hreniak, Paweł Jabłoński, Norbert Jakub Kaczmarczyk, Filip Kaczyński, Jarosław Kaczyński, Piotr Kaleta, Sebastian Kaleta, Mariusz Kałużny, Mariusz Kamiński, Jan Kanthak, Fryderyk Sylwester Kapinos, Łukasz Kmita, Maria Koc, Andrzej Kosztowniak, Henryk Kowalczyk, Janusz Kowalski, Bartosz Józef Kownacki, Wiesław Krajewski, Leonard Krasulski, Piotr Król, Anna Krupka, Andrzej Kryj, Mariusz Krystian, Krzysztof Kubów, Marek Kuchciński, Maria Kurowska, Władysław Kurowski, Zbigniew Krzysztof Kuźmiuk, Anna Kwiecień, Ewa Leniart, Joanna Lichocka, Krzysztof Lipiec, Grzegorz Lorek, Sebastian Łukaszewicz, Marzena Anna Machałek, Antoni Macierewicz, Marlena Magdalena Maląg, Ewa Malik, Maciej Małecki, Dariusz Matecki, Jerzy Materna, Grzegorz Matusiak, Marek Matuszewski, Łukasz Mejza, Anna Milczanowska, Daniel Milewski, Mateusz Morawiecki, Jan Mosiński, Michał Moskal, Aleksander Mikołaj Mrówczyński, Arkadiusz Mularczyk, Piotr Müller, Marcin Ociepa, Jacek Osuch, Jacek Ozdoba, Teresa Pamuła, Bolesław Piecha, Grzegorz Piechowiak, Anna Pieczarka, Dariusz Piontkowski, Kacper Płażyński, Szymon Pogoda, Jerzy Polaczek, Piotr Polak, Marcin Porzucek, Marcin Przydacz, Grzegorz Puda, Zbigniew Rau, Marcin Romanowski, Urszula Rusecka, Paweł Rychlik, Paweł Sałek, Jacek Sasin, Anna Schmidt, Łukasz Schreiber, Jarosław Sellin, Olga Ewa Semeniuk-Patkowska, Edward Siarka, Sławomir Skwarek, Kazimierz Smoliński, Krzysztof Sobolewski, Artur Soboń, Agnieszka Anna Soin, Katarzyna Sójka, Mirosława Stachowiak-Różecka, Dariusz Stefaniuk, Marek Suski, Artur Szałabawka, Wojciech Szarama, Krzysztof Szczucki, Józefa Szczurek-Żelazko, Paweł Szefernaker, Paweł Szrot, Stanisław Szwed, Szymon Szynkowski vel Sęk, Agnieszka Ścigaj, Andrzej Śliwka, Jacek Świat, Krzysztof Tchórzewski, Robert Telus, Ryszard Terlecki, Sylwester Tułajew, Piotr Uruski, Piotr Uściński, Marcin Warchoł, Robert Warwas, Jan Warzecha, Małgorzata Wassermann, Maciej Wąsik, Rafał Weber, Marek Wesoły, Patryk Wicher, Jarosław Wiesław Wieczorek, Teresa Wilk, Elżbieta Witek, Agnieszka Wojciechowska van Heukelom, Agata Wojtyszek, Michał Woś, Grzegorz Woźniak, Tadeusz Woźniak, Michał Wójcik, Bartłomiej Wróblewski, Sławomir Zawiślak, Jarosław Zieliński, Tomasz Zieliński, Zbigniew Ziobro, Wojciech Michał Zubowski, Ireneusz Zyska, Anna Baluch, Monika Pawłowska, Lidia Czechak, Michał Kowalski, Wioletta Maria Kulpa, Grzegorz Macko, Anna Paluch, Włodzimierz Tomaszewski, Jarosław Krajewski, Rafał Romanowski\n",
      "\n",
      "KO: Piotr Adamowicz, Bartosz Arłukowicz, Urszula Augustyn, Sylwia Bielawska, Paweł Bliźniuk, Mateusz Bochenek, Krzysztof Bojarski, Piotr Borys, Marcin Bosacki, Krzysztof Brejza, Borys Budka, Marek Jan Chmielewski, Alicja Chybicka, Janusz Cichoń, Zofia Czernow, Barbara Dolniak, Andrzej Domański, Robert Dowhan, Magdalena Filiks, Joanna Frydrych, Konrad Frysztak, Patryk Gabriel, Krzysztof Gadowski, Aleksandra Gajewska, Kinga Gajewska, Elżbieta Gapińska, Kamila Gasiuk-Pihowicz, Zdzisław Gawlik, Elżbieta Gelert, Artur Daniel Gierada, Roman Giertych, Włodzisław Giziński, Tomasz Głogowski, Piotr Głowski, Marta Golbik, Stanisław Gorczyca, Krzysztof Grabczuk, Jan Grabiec, Małgorzata Gromadzka, Marek Gzik, Krzysztof Habura, Agnieszka Hanajczyk, Iwona Hartwich, Marek Tomasz Hok, Łukasz Horbatowski, Klaudia Jachira, Maria Małgorzata Janyska, Michał Jaros, Patryk Jaskulski, Danuta Jazłowiecka, Dariusz Joński, Marcin Józefaciuk, Piotr Kandyba, Jacek Karnowski, Iwona Karolewska, Marcin Kierwiński, Katarzyna Kierzek-Koperska, Joanna Kluzik-Rostkowska, Ewa Kołodziej, Magdalena Małgorzata Kołodziejczak, Michał Kołodziejczak, Zbigniew Konwiński, Tomasz Kostuś, Paweł Kowal, Iwona Maria Kozłowska, Iwona Małgorzata Krawczyk, Michał Krawczyk, Robert Kropiwnicki, Wojciech Król, Marek Krząkała, Adam Krzemiński, Henryka Krzywonos-Strycharska, Piotr Lachowicz, Stanisław Lamczyk, Maciej Lasek, Gabriela Lenartowicz, Izabela Leszczyna, Katarzyna Anna Lubnauer, Artur Jarosław Łącki, Alicja Łepkowska-Gołaś, Dorota Łoboda, Krystian Łuczak, Arkadiusz Marchewka, Jagna Marczułajtis-Walczak, Dorota Marek, Katarzyna Matusik-Lipiec, Rajmund Miller, Aleksander Miszalski, Czesław Mroczek, Izabela Katarzyna Mrzygłocka, Arkadiusz Myrcha, Grzegorz Napieralski, Dorota Niedziela, Jacek Niedźwiedzki, Małgorzata Niemczyk, Jolanta Niezgodzka, Sławomir Nitras, Barbara Nowacka, Tomasz Piotr Nowak, Mirosława Nykiel, Marzena Okła-Drewnowicz, Paweł Olszewski, Katarzyna Osos, Paweł Papke, Karolina Pawliczak, Małgorzata Pępek, Katarzyna Maria Piekarska, Lucjan Marek Pietrzczyk, Kazimierz Plocke, Elżbieta Anna Polak, Agnieszka Pomaska, Jacek Protas, Renata Rak, Monika Rosa, Grzegorz Rusiecki, Jakub Rutnicki, Marek Rząsa, Wojciech Saługa, Krystyna Sibińska, Rafał Siemaszko, Tomasz Siemoniak, Bartłomiej Sienkiewicz, Krystyna Skowrońska, Waldemar Sługocki, Weronika Smarduch, Anna Sobolak, Marek Sowa, Franciszek Sterczewski, Paweł Suski, Michał Szczerba, Andrzej Szewiński, Adam Szłapka, Henryk Szopiński, Krystyna Szumilas, Tomasz Szymański, Łukasz Ściebiorowski, Apoloniusz Tajner, Cezary Tomczyk, Małgorzata Tracz, Krzysztof Truskolaski, Donald Tusk, Jarosław Urbaniak, Jarosław Wałęsa, Robert Wardzała, Marta Wcisło, Monika Wielichowska, Aleksandra Karolina Uznańska-Wiśniewska, Adrian Witczak, Mariusz Witczak, Przemysław Witek, Anna Wojciechowska, Bogusław Wołoszański, Maciej Wróbel, Bartosz Zawieja, Bogdan Andrzej Zdrojewski, Witold Zembaczyński, Urszula Sara Zielińska, Magdalena Łośko, Alicja Łuczak, Dominik Jaśkowiec, Paweł Masełko, Katarzyna Stachowicz, Barbara Grygorcewicz, Urszula Koszutska, Maria Joanna Koźlakiewicz, Katarzyna Królak, Jerzy Meysztowicz, Krzysztof Mieszkowski, Krzysztof Piątkowski, Mariusz Popielarz, Magdalena Roguska, Maciej Tomczykiewicz, Bożena Lisowska, Aleksandra Kot, Robert Jagła\n",
      "\n",
      "Republikanie: Jan Krzysztof Ardanowski, Marek Jakubiak, Paweł Kukiz, Jarosław Sachajko\n",
      "\n",
      "PSL-TD: Władysław Bartoszewski, Paweł Bejda, Marek Biernacki, Adam Dziedzic, Andrzej Grzyb, Krzysztof Hetman, Henryk Kiepura, Dariusz Klimczak, Agnieszka Maria Kłopotek, Władysław Kosiniak-Kamysz, Stefan Krajewski, Radosław Lubczyk, Mirosław Maliszewski, Urszula Nowogórska, Mirosław Adam Orliński, Urszula Pasławska, Krzysztof Paszyk, Michał Pyrzyk, Ireneusz Raś, Wiesław Różyński, Jarosław Rzepa, Tadeusz Samborski, Marek Sawicki, Czesław Siekierski, Zbigniew Sosnowski, Magdalena Sroka, Jacek Tomczak, Stanisław Tomczyszyn, Piotr Zgorzelski, Zbigniew Ziejewski, Jolanta Zięba-Gzik, Bożena Żelazowska, Henryk Smolarz\n",
      "\n",
      "Konfederacja: Konrad Berkowicz, Karina Anna Bosak, Krzysztof Bosak, Grzegorz Braun, Bronisław Foltyn, Sławomir Mentzen, Krzysztof Mulawa, Bartłomiej Pejo, Grzegorz Adam Płaczek, Krzysztof Tuduj, Witold Tumanowicz, Stanisław Tyszka, Michał Wawer, Ryszard Wilk, Przemysław Wipler, Andrzej Tomasz Zapałowski, Krzysztof Szymański, Michał Połuboczek\n",
      "\n",
      "Polska2050-TD: Izabela Bodnar, Agnieszka Buczyńska, Elżbieta Burkiewicz, Żaneta Cwalina-Śliwowska, Sławomir Ćwik, Piotr Górnikiewicz, Michał Gramatyka, Paulina Hennig-Kloska, Szymon Hołownia, Rafał Kasprzyk, Michał Kobosko, Rafał Komarewicz, Aleksandra Leo, Adam Luboński, Joanna Mucha, Maja Ewa Nowak, Barbara Okuła, Barbara Oliwiecka, Łukasz Osmalak, Ryszard Petru, Norbert Pietrykowski, Bartosz Romowicz, Ewa Schädler, Marcin Skonieczka, Piotr Paweł Strach, Mirosław Suchoń, Ewa Szymanowska, Paweł Śliz, Wioleta Tomczak, Kamil Wnuk, Paweł Zalewski, Tomasz Zimoch, Bożenna Hołownia\n",
      "\n",
      "Lewica: Włodzimierz Czarzasty, Jacek Czerniak, Agnieszka Dziemianowicz-Bąk, Krzysztof Gawkowski, Daria Gosek-Popiołek, Katarzyna Kotula, Anita Kucharska-Dziedzic, Marcin Kulasek, Łukasz Litewka, Wanda Nowicka, Dorota Olko, Joanna Scheuring-Wielgus, Arkadiusz Sikora, Wiesław Szczepański, Andrzej Szejna, Krzysztof Śmiszek, Tadeusz Tomaszewski, Tomasz Trela, Katarzyna Ueberhan, Joanna Wicha, Dariusz Wieczorek, Anna Maria Żukowska, Piotr Kowal\n",
      "\n",
      "niez.: Roman Fritz, Adam Gomoła, Włodzimierz Skalik\n",
      "\n",
      "Razem: Maciej Konieczny, Paulina Matysiak, Adrian Zandberg, Marcelina Zawisza, Marta Stożek\n",
      "\n"
     ]
    }
   ],
   "source": [
    "club_dict = {}\n",
    "\n",
    "for person in political_parties_data:\n",
    "    club = person.get(\"club\", \"Brak klubu\")\n",
    "    name = person.get(\"firstLastName\", \"Nieznany\")\n",
    "\n",
    "    # Dodajemy do słownika\n",
    "    if club in club_dict:\n",
    "        club_dict[club].append(name)\n",
    "    else:\n",
    "        club_dict[club] = [name]\n",
    "\n",
    "for club, names in club_dict.items():\n",
    "    print(f\"{club}: {', '.join(names)}\\n\")"
   ]
  },
  {
   "cell_type": "code",
   "execution_count": 13,
   "id": "fd55b8d2-88df-48fa-a0fd-2bdfb97cdc64",
   "metadata": {},
   "outputs": [],
   "source": [
    "politicians_df[\"political_club\"] = \"\""
   ]
  },
  {
   "cell_type": "code",
   "execution_count": 22,
   "id": "8cb1ea3f-c218-4d9a-adec-7d373caec735",
   "metadata": {},
   "outputs": [],
   "source": [
    "club_dict = {}\n",
    "\n",
    "def assign_political_club(row):\n",
    "    politician_name = row[\"politician\"]\n",
    "\n",
    "    for club, names in club_dict.items():\n",
    "        if any(name in politician_name for name in names):  # Szukamy nazwiska w całym stringu\n",
    "            return club\n",
    "    return \"Nieznana partia\"\n",
    "\n",
    "politicians_df[\"political_club\"] = politicians_df.apply(assign_political_club, axis=1)"
   ]
  },
  {
   "cell_type": "code",
   "execution_count": 35,
   "id": "d5e9e93e-d337-4931-a0c7-4590d3ad3b1f",
   "metadata": {},
   "outputs": [
    {
     "data": {
      "text/html": [
       "<div>\n",
       "<style scoped>\n",
       "    .dataframe tbody tr th:only-of-type {\n",
       "        vertical-align: middle;\n",
       "    }\n",
       "\n",
       "    .dataframe tbody tr th {\n",
       "        vertical-align: top;\n",
       "    }\n",
       "\n",
       "    .dataframe thead th {\n",
       "        text-align: right;\n",
       "    }\n",
       "</style>\n",
       "<table border=\"1\" class=\"dataframe\">\n",
       "  <thead>\n",
       "    <tr style=\"text-align: right;\">\n",
       "      <th></th>\n",
       "      <th>politician</th>\n",
       "      <th>utterance</th>\n",
       "      <th>sejm_session</th>\n",
       "      <th>date</th>\n",
       "      <th>political_club</th>\n",
       "    </tr>\n",
       "  </thead>\n",
       "  <tbody>\n",
       "    <tr>\n",
       "      <th>8799</th>\n",
       "      <td>Poseł Adam Krzemiński</td>\n",
       "      <td>Panie Marszałku! Wysoka Izbo! Szanowna Pani Mi...</td>\n",
       "      <td>17</td>\n",
       "      <td>2024-09-12</td>\n",
       "      <td>KO</td>\n",
       "    </tr>\n",
       "  </tbody>\n",
       "</table>\n",
       "</div>"
      ],
      "text/plain": [
       "                 politician  \\\n",
       "8799  Poseł Adam Krzemiński   \n",
       "\n",
       "                                              utterance  sejm_session  \\\n",
       "8799  Panie Marszałku! Wysoka Izbo! Szanowna Pani Mi...            17   \n",
       "\n",
       "            date political_club  \n",
       "8799  2024-09-12             KO  "
      ]
     },
     "execution_count": 35,
     "metadata": {},
     "output_type": "execute_result"
    }
   ],
   "source": [
    "politicians_df.sample()"
   ]
  },
  {
   "cell_type": "markdown",
   "id": "80bbe5fa-c85c-41a2-9908-fbf0cec5f04b",
   "metadata": {
    "jp-MarkdownHeadingCollapsed": true
   },
   "source": [
    "## Zapis dataframe do excela\n",
    "plik z rozszerzeniem .xlsx"
   ]
  },
  {
   "cell_type": "code",
   "execution_count": 30,
   "id": "1d8936e1-a177-4603-83a6-742e1bf038c9",
   "metadata": {},
   "outputs": [],
   "source": [
    "politicians_df.to_excel('politycy.xlsx', index=False)"
   ]
  },
  {
   "cell_type": "markdown",
   "id": "3dbcafc8-8cc1-4a37-8c80-43b254aff01c",
   "metadata": {},
   "source": [
    "# Operowanie na zescrappowanych danych"
   ]
  },
  {
   "cell_type": "markdown",
   "id": "59b4314c-fa19-4575-a548-a70f5c6036d7",
   "metadata": {},
   "source": [
    "## Przygotowanie datasetu z excela\n",
    "- Załadowanie datasetu z wypowiedziami polityków z rozszerzeniem .csv\n",
    "- Oczyszczenie datasetu (wypowiedzi - utterance) z niepotrzebnych afixów \"\\r\" \"\\n\""
   ]
  },
  {
   "cell_type": "code",
   "execution_count": 16,
   "id": "f02461c4-37bd-442d-a52c-874b74af3dc1",
   "metadata": {},
   "outputs": [],
   "source": [
    "dataset_politycy = pd.read_csv('politycy.csv', encoding='utf-8', sep=';')\n",
    "dataset_politycy = dataset_politycy.dropna(subset=[\"utterance\", \"politician\", \"sejm_session\", \"date\", \"political_club\"])"
   ]
  },
  {
   "cell_type": "code",
   "execution_count": 17,
   "id": "5e913396-4a4a-4397-8bb1-f151f8d3776b",
   "metadata": {},
   "outputs": [],
   "source": [
    "dataset_politycy['utterance'] = dataset_politycy['utterance'].str.replace(r'[\\n\\r]', '', regex=True)"
   ]
  },
  {
   "cell_type": "code",
   "execution_count": 29,
   "id": "24781133-4658-4d77-ac54-1d214b2857ec",
   "metadata": {},
   "outputs": [
    {
     "data": {
      "text/plain": [
       "'Panie Marszałku! Wysoka Izbo! Oczywiście jest to takie marzenie, że samorząd to jest taka organizacja, na której czele stoi gospodarz wybrany w jednomandatowym okręgu wyborczym...(Głos z sali: Bo tak jest. Tak jest.)...gospodarz, który poza światem własnej gminy, własnego powiatu czy miasta nie widzi innych trosk politycznych. Wyciągnięcie samorządów z polityki jest celem samym w sobie. I tak sobie wyobrażam, że w tym marzeniu, w którym burmistrzowie i prezydenci zajmują się jedynie sprawami swoich mieszkańców, jest taki moment, kiedy razem ze swoją radą siada się do stołu i tworzy się budżet. Ta ustawa, wydaje się, idzie w dobrym kierunku, bo nie ma tam już punktu: ile dadzą albo nie dadzą. Budżet miasta, gminy, wsi musi opierać się na jakichś pewnikach, czyli mamy własne dochody. Ja tutaj jako przedsiębiorca widzę bardzo duży pozytyw, jeśli chodzi o przerzucenie dochodów właśnie związanych z CIT, PIT, dlatego że miasta być może zaczną wtedy dbać o własnych przedsiębiorców, zaczną widzieć większy sens w ich utrzymywaniu i będą ich poważniej traktować. To jest dobry kierunek, proszę państwa.Co do Janosika chcę powiedzieć, że nie może być tak, że Warszawa bierze kredyty, żeby płacić czy spłacać Janosika. To rozwiązanie, wydaje się, jest jednak rozsądne. Powiem tylko tyle, że wyrównywanie szans - tak, ale bez bzdur, bardzo proszę. Bo gdy pan minister, łaskawiak, porównywał dochody na mieszkańca Warszawy i jakiejś tam gminy, no to zabrakło mi tam jeszcze żądania, żeby w tej gminie było metro. Nie da się po prostu porównywać takich dochodów, bo warszawiacy mają zupełnie inne koszty życia. Nie można bezwzględnie używać jednego wskaźnika, żeby to porównywać, jeśli chodzi o inne regiony. Jako warszawiak muszę powiedzieć, że Warszawa jest bardzo droga, zresztą państwo tutaj parę dni w miesiącu jesteście i zapewne chodzicie po sklepach, to widzicie to.Co do istoty Kukiz’15 zapewne będzie popierał tę ustawę, dlatego że samorządy powinny być niezależne i powinny być samorządne. Powinny mieć własne dochody, bez uzależniania ich od jaśnie pana, jakim jest pan premier czy ktoś inny, już nie będę tutaj dywagował o tym, z jakiego pochodzi ugrupowania. Samorządy, proszę państwa, to jest polskość, to jest nasza tradycja narodowa. Nasze województwa, nasze powiaty itd. powinny być autentycznie samorządne, odizolowane nawet od tego, co się nazywa przychodem.Co do tych uszczypliwości, których tutaj mnóstwo już słyszałem, chcę państwu powiedzieć, że trzeba być ślepcem, naprawdę trzeba być ślepcem, żeby nie widzieć, jak samorządy przez ostatnie 8 lat urosły w miejsca czyste, zadbane, eleganckie. Popatrzcie na domy w naszych powiatach. W Europie nie spotkacie czegoś podobnego. Polska jest czystym, zadbanym miejscem, a to też dzięki prezydentom, dzięki wójtom, proszę państwa, i burmistrzom. Chcę powiedzieć, że są miejsca, gdzie da się połączyć ogień z wodą. Takim miejscem jest Ciechanów. Popatrzcie, jak działa starosta, pozdrawiam serdecznie. Takim miejscem jest miejscowość, gmina Ojrzeń. Popatrzcie, jak to wszystko pięknie wygląda, pozapolitycznie. Ale jest też i nonszalancja niektórych samorządów, dlatego że w środku wsi za setki tysięcy złotych buduje się park, z którego nikt nie korzysta. Pytam: Po coś to postawił? Dawali, to brałem. To też nie o to chodzi, proszę państwa, żebyśmy przeżerali pieniądze na inwestycje, które nie mają żadnego sensu. A zapewniam państwa, że gdyby ta gmina zarobiła te pieniądze, nie miałaby problemu z wydawaniem ich na bzdury, ponieważ czyjeś to niczyje, a zarobione przez siebie - to jest własne. Tego właśnie życzę polskim gminom i oczywiście Polsce powiatowej. Dziękuję bardzo. (Oklaski)'"
      ]
     },
     "execution_count": 29,
     "metadata": {},
     "output_type": "execute_result"
    }
   ],
   "source": [
    "dataset_politycy['utterance'][9003]"
   ]
  },
  {
   "cell_type": "code",
   "execution_count": 31,
   "id": "ac125e9b-d134-48f0-a856-28959bd35ba0",
   "metadata": {},
   "outputs": [],
   "source": [
    "dataset_politycy.to_excel('politycy_czysty.xlsx', index=False)"
   ]
  },
  {
   "cell_type": "markdown",
   "id": "91fca2b8-b9ac-4d5a-a8df-5d77a2056efb",
   "metadata": {
    "jp-MarkdownHeadingCollapsed": true
   },
   "source": [
    "## Podzielenie wypowiedzi na mniejsze segmenty (niekonieczne)\n",
    "- Wykonanie na każdym wierszu funkcji podzielenia i pofiltrowania\n",
    "- Podział wypowiedzi na zdania, punkty graniczne to między innymi kropka, przecinek, znak zapytania itp.\n",
    "- Pofiltrowanie aby w datasecie zostały TYLKO zdania zawierające więcej niż 10 wyrazów"
   ]
  },
  {
   "cell_type": "code",
   "execution_count": 10,
   "id": "d47e3a78-15f2-462e-b5ef-4c0de0ff39d8",
   "metadata": {},
   "outputs": [],
   "source": [
    "# poucinanie wypowiedzi na pojedyncze zdania i odrzucenie tych które są krótsze niż 15 słów\n",
    "\n",
    "import re\n",
    "\n",
    "def split_and_filter(row):\n",
    "    #sentences = re.split(r'(?<=[.!?])\\s+', row['utterance'])\n",
    "    sentences = re.split(r'(?<=[.!?])\\s*(?=[A-ZĄĆĘŁŃÓŚŹŻ])', row['utterance'])\n",
    "    filtered_sentences = [s for s in sentences if len(s.split()) >= 15]\n",
    "    return pd.DataFrame({'politician': row['politician'], 'utterance': filtered_sentences, 'political_club': row['political_club']})\n",
    "\n",
    "dataset_filtered_politycy = pd.concat(dataset_politycy.apply(split_and_filter, axis=1).tolist(), ignore_index=True)\n",
    "dataset_filtered_politycy.to_excel('politycy_filtered.xlsx', index=False)"
   ]
  },
  {
   "cell_type": "code",
   "execution_count": 11,
   "id": "753f7e64-f3dd-44e6-b030-b8cd98665058",
   "metadata": {},
   "outputs": [],
   "source": []
  },
  {
   "cell_type": "markdown",
   "id": "74f42d59-20ad-4bd2-b66f-4c3ca89e2664",
   "metadata": {},
   "source": [
    "# Model AI oraz embeddings"
   ]
  },
  {
   "cell_type": "markdown",
   "id": "39468b48-d6d7-4957-84e5-98b9ba371c66",
   "metadata": {},
   "source": [
    "## Przygotowanie datasetu z excela\n",
    "Załadowanie datasetu z wypowiedziami polityków z rozszerzeniem .csv"
   ]
  },
  {
   "cell_type": "code",
   "execution_count": 32,
   "id": "3ae0fb78-5fec-4de4-bbb7-32be7a32e90d",
   "metadata": {},
   "outputs": [],
   "source": [
    "#dataset_filtered_politycy = pd.read_csv('politycy_filtered.csv', encoding='utf-8', sep=';')\n",
    "#dataset_filtered_politycy = dataset_filtered_politycy.dropna(subset=[\"politician\", \"utterance\", 'political_club'])\n",
    "\n",
    "dataset_filtered_politycy = pd.read_csv('politycy_czysty.csv', encoding='utf-8', sep=';')\n",
    "dataset_filtered_politycy = dataset_filtered_politycy.dropna(subset=[\"politician\", \"utterance\", 'political_club'])"
   ]
  },
  {
   "cell_type": "markdown",
   "id": "c5c71a60-2699-4d05-bbe1-c20309d7c837",
   "metadata": {},
   "source": [
    "## Załadowanie odpowiedniego modelu AI oraz stworzenie funkcji\n",
    "- funkcja get_embedding odpowiedzialna za stworzenie embeddingu na tekście\n",
    "- funkcja get_similarity porównująca podobieństwo między embeddingami przy użyciu cosine similarity "
   ]
  },
  {
   "cell_type": "code",
   "execution_count": 9,
   "id": "320b7539-6b93-4f47-9c21-09fe754fa4a9",
   "metadata": {},
   "outputs": [],
   "source": [
    "#model = SentenceTransformer('paraphrase-MiniLM-L6-v2')\n",
    "#model = SentenceTransformer('BAAI/bge-multilingual-gemma2')\n",
    "#model = SentenceTransformer('Alibaba-NLP/gte-multilingual-base')\n",
    "#model = SentenceTransformer('all-MiniLM-L6-v2')\n",
    "model = SentenceTransformer('paraphrase-multilingual-MiniLM-L12-v2')\n",
    "#model = SentenceTransformer('sentence-transformers/stsb-xlm-r-multilingual')"
   ]
  },
  {
   "cell_type": "code",
   "execution_count": 22,
   "id": "75f962ac-b08c-4965-bc94-b20182da697f",
   "metadata": {},
   "outputs": [],
   "source": [
    "# Funkcja do konwersji tekstu na wektor (embedding)\n",
    "def get_embedding(text):\n",
    "    return model.encode(text)\n",
    "\n",
    "\n",
    "def get_similarity(user_input, df_embeddings):\n",
    "    user_embedding = get_embedding(user_input)\n",
    "    \n",
    "    similarities = []\n",
    "    for index, row in df_embeddings.iterrows():\n",
    "        politician_embedding = np.array(row['embedding'])\n",
    "        \n",
    "        similarity = cosine_similarity([user_embedding], [politician_embedding])[0][0]\n",
    "        similarities.append((similarity, row['politician'], row['utterance']))\n",
    "\n",
    "    similarities.sort(reverse=True, key=lambda x: x[0])\n",
    "    top_n = 4\n",
    "    avg_similarity = np.mean([sim for sim, _, _ in similarities[:top_n]])\n",
    "    \n",
    "    return avg_similarity, similarities[:top_n]\n",
    "\n",
    "\n",
    "def get_similarity_politician(user_input, df_dataset):\n",
    "    user_embedding = get_embedding(user_input)\n",
    "    \n",
    "    df_dataset[\"similarity\"] = df_dataset[\"embedding\"].apply(lambda emb: cosine_similarity([user_embedding], [emb])[0][0])\n",
    "    df_sorted = df_dataset.sort_values(by=\"similarity\", ascending=False)\n",
    "\n",
    "    top_n = 3\n",
    "    top_similar = df_sorted.head(top_n)\n",
    "\n",
    "    return top_similar[[\"similarity\", \"politician\", \"political_club\", \"utterance\"]].values.tolist()"
   ]
  },
  {
   "cell_type": "markdown",
   "id": "681674e3-e6e9-4835-8af5-b39153bd8794",
   "metadata": {},
   "source": [
    "## Sprawdzenie liczby tokenów dla każdej z wypowiedzi sejmowych"
   ]
  },
  {
   "cell_type": "code",
   "execution_count": 36,
   "id": "d549d6bf-818d-466e-9827-85ba52d7bf15",
   "metadata": {
    "scrolled": true
   },
   "outputs": [
    {
     "name": "stdout",
     "output_type": "stream",
     "text": [
      "BertConfig {\n",
      "  \"_attn_implementation_autoset\": true,\n",
      "  \"_name_or_path\": \"sentence-transformers/paraphrase-multilingual-MiniLM-L12-v2\",\n",
      "  \"architectures\": [\n",
      "    \"BertModel\"\n",
      "  ],\n",
      "  \"attention_probs_dropout_prob\": 0.1,\n",
      "  \"classifier_dropout\": null,\n",
      "  \"gradient_checkpointing\": false,\n",
      "  \"hidden_act\": \"gelu\",\n",
      "  \"hidden_dropout_prob\": 0.1,\n",
      "  \"hidden_size\": 384,\n",
      "  \"initializer_range\": 0.02,\n",
      "  \"intermediate_size\": 1536,\n",
      "  \"layer_norm_eps\": 1e-12,\n",
      "  \"max_position_embeddings\": 512,\n",
      "  \"model_type\": \"bert\",\n",
      "  \"num_attention_heads\": 12,\n",
      "  \"num_hidden_layers\": 12,\n",
      "  \"pad_token_id\": 0,\n",
      "  \"position_embedding_type\": \"absolute\",\n",
      "  \"transformers_version\": \"4.46.2\",\n",
      "  \"type_vocab_size\": 2,\n",
      "  \"use_cache\": true,\n",
      "  \"vocab_size\": 250037\n",
      "}\n",
      "\n",
      "512\n"
     ]
    }
   ],
   "source": [
    "from transformers import AutoModel\n",
    "model_name = 'sentence-transformers/paraphrase-multilingual-MiniLM-L12-v2'\n",
    "model = AutoModel.from_pretrained(model_name)\n",
    "print(model.config)\n",
    "print(model.config.max_position_embeddings)"
   ]
  },
  {
   "cell_type": "code",
   "execution_count": 10,
   "id": "2a332eea-2126-4c04-a5fe-3db9935cbffb",
   "metadata": {},
   "outputs": [
    {
     "name": "stdout",
     "output_type": "stream",
     "text": [
      "SentenceTransformer(\n",
      "  (0): Transformer({'max_seq_length': 128, 'do_lower_case': False}) with Transformer model: BertModel \n",
      "  (1): Pooling({'word_embedding_dimension': 384, 'pooling_mode_cls_token': False, 'pooling_mode_mean_tokens': True, 'pooling_mode_max_tokens': False, 'pooling_mode_mean_sqrt_len_tokens': False, 'pooling_mode_weightedmean_tokens': False, 'pooling_mode_lasttoken': False, 'include_prompt': True})\n",
      ")\n",
      "max_seq_length: 128\n",
      "max_seq_length: 512\n"
     ]
    }
   ],
   "source": [
    "model = SentenceTransformer('paraphrase-multilingual-MiniLM-L12-v2')\n",
    "print(model)\n",
    "print(\"max_seq_length:\", model.max_seq_length)\n",
    "model.max_seq_length = 512\n",
    "print(\"max_seq_length:\", model.max_seq_length)"
   ]
  },
  {
   "cell_type": "code",
   "execution_count": 41,
   "id": "84dbd30c-6f87-438d-b3a8-5d2bfb8cc48f",
   "metadata": {},
   "outputs": [],
   "source": [
    "def count_tokens_in_csv(df):\n",
    "    tokenizer = model.tokenizer \n",
    "\n",
    "    df[\"token_count\"] = df[\"utterance\"].astype(str).apply(\n",
    "        lambda x: len(tokenizer.encode(x, add_special_tokens=True))\n",
    "    )\n",
    "    \n",
    "    return df"
   ]
  },
  {
   "cell_type": "code",
   "execution_count": 43,
   "id": "963f149e-ea68-4ba9-927c-503818d6fffd",
   "metadata": {},
   "outputs": [
    {
     "name": "stdout",
     "output_type": "stream",
     "text": [
      "                                         politician  \\\n",
      "0  Prezydent Rzeczypospolitej Polskiej Andrzej Duda   \n",
      "1                 Sekretarz Poseł Bożena Żelazowska   \n",
      "2            Sekretarz Poseł Alicja Łepkowska-Gołaś   \n",
      "3                 Sekretarz Poseł Bożena Żelazowska   \n",
      "4            Sekretarz Poseł Alicja Łepkowska-Gołaś   \n",
      "\n",
      "                                           utterance  sejm_session  \\\n",
      "0  Drodzy Rodacy! Wielce Szanowny Panie Marszałku...             1   \n",
      "1  (Sekretarz poseł odczytuje nazwiska posłów)Pos...             1   \n",
      "2  Poseł Andrzej Adamczyk: Ślubuję. Tak mi dopomó...             1   \n",
      "3  Poseł Agnieszka Pomaska: Ślubuję.Poseł Cezary ...             1   \n",
      "4  Poseł Mirosław Suchoń: Ślubuję. Tak mi dopomóż...             1   \n",
      "\n",
      "         date   political_club  token_count  \n",
      "0  2023-11-13  Nieznana partia         5002  \n",
      "1  2023-11-13           PSL-TD          376  \n",
      "2  2023-11-13               KO          361  \n",
      "3  2023-11-13           PSL-TD          300  \n",
      "4  2023-11-13               KO          423  \n"
     ]
    }
   ],
   "source": [
    "df_with_tokens = count_tokens_in_csv(dataset_filtered_politycy)\n",
    "print(df_with_tokens.head())"
   ]
  },
  {
   "cell_type": "code",
   "execution_count": 46,
   "id": "999b9a60-b003-4737-b581-32483dab7827",
   "metadata": {},
   "outputs": [
    {
     "data": {
      "text/html": [
       "<div>\n",
       "<style scoped>\n",
       "    .dataframe tbody tr th:only-of-type {\n",
       "        vertical-align: middle;\n",
       "    }\n",
       "\n",
       "    .dataframe tbody tr th {\n",
       "        vertical-align: top;\n",
       "    }\n",
       "\n",
       "    .dataframe thead th {\n",
       "        text-align: right;\n",
       "    }\n",
       "</style>\n",
       "<table border=\"1\" class=\"dataframe\">\n",
       "  <thead>\n",
       "    <tr style=\"text-align: right;\">\n",
       "      <th></th>\n",
       "      <th>politician</th>\n",
       "      <th>utterance</th>\n",
       "      <th>sejm_session</th>\n",
       "      <th>date</th>\n",
       "      <th>political_club</th>\n",
       "      <th>token_count</th>\n",
       "    </tr>\n",
       "  </thead>\n",
       "  <tbody>\n",
       "    <tr>\n",
       "      <th>6952</th>\n",
       "      <td>Członek Państwowej Komisji do spraw Przeciwdzi...</td>\n",
       "      <td>Ślubuję. (Oklaski)</td>\n",
       "      <td>13</td>\n",
       "      <td>2024-06-14</td>\n",
       "      <td>Nieznana partia</td>\n",
       "      <td>11</td>\n",
       "    </tr>\n",
       "    <tr>\n",
       "      <th>24</th>\n",
       "      <td>Sekretarz Poseł Alicja Łepkowska-Gołaś</td>\n",
       "      <td>Poseł Bożena Żelazowska: Ślubuję. Tak mi dopom...</td>\n",
       "      <td>1</td>\n",
       "      <td>2023-11-13</td>\n",
       "      <td>KO</td>\n",
       "      <td>23</td>\n",
       "    </tr>\n",
       "    <tr>\n",
       "      <th>14027</th>\n",
       "      <td>Sekretarz Poseł Małgorzata Gromadzka</td>\n",
       "      <td>Informuję, że dziś odbędzie się posiedzenie Ko...</td>\n",
       "      <td>24</td>\n",
       "      <td>2024-12-06</td>\n",
       "      <td>KO</td>\n",
       "      <td>23</td>\n",
       "    </tr>\n",
       "    <tr>\n",
       "      <th>25</th>\n",
       "      <td>Sekretarz Poseł Bożena Żelazowska</td>\n",
       "      <td>Poseł Alicja Łepkowska-Gołaś: Ślubuję. (Oklaski)</td>\n",
       "      <td>1</td>\n",
       "      <td>2023-11-13</td>\n",
       "      <td>PSL-TD</td>\n",
       "      <td>24</td>\n",
       "    </tr>\n",
       "    <tr>\n",
       "      <th>7697</th>\n",
       "      <td>Poseł Piotr Paweł Strach</td>\n",
       "      <td>W imieniu wnioskodawców chciałbym wycofać 6. w...</td>\n",
       "      <td>15</td>\n",
       "      <td>2024-07-12</td>\n",
       "      <td>Polska2050-TD</td>\n",
       "      <td>24</td>\n",
       "    </tr>\n",
       "    <tr>\n",
       "      <th>...</th>\n",
       "      <td>...</td>\n",
       "      <td>...</td>\n",
       "      <td>...</td>\n",
       "      <td>...</td>\n",
       "      <td>...</td>\n",
       "      <td>...</td>\n",
       "    </tr>\n",
       "    <tr>\n",
       "      <th>2532</th>\n",
       "      <td>Sekretarz Stanu w Ministerstwie Rozwoju i Tech...</td>\n",
       "      <td>Szanowny Panie Marszałku! Wysoka Izbo! Panie p...</td>\n",
       "      <td>4</td>\n",
       "      <td>2024-01-26</td>\n",
       "      <td>KO</td>\n",
       "      <td>997</td>\n",
       "    </tr>\n",
       "    <tr>\n",
       "      <th>2670</th>\n",
       "      <td>Poseł Jarosław Sachajko</td>\n",
       "      <td>Panie Marszałku najbardziej na świecie otwarte...</td>\n",
       "      <td>5</td>\n",
       "      <td>2024-02-07</td>\n",
       "      <td>Republikanie</td>\n",
       "      <td>997</td>\n",
       "    </tr>\n",
       "    <tr>\n",
       "      <th>3197</th>\n",
       "      <td>Poseł Joanna Wicha</td>\n",
       "      <td>Szanowna Pani Marszałek! Pani Minister! Wysoka...</td>\n",
       "      <td>6</td>\n",
       "      <td>2024-02-21</td>\n",
       "      <td>Lewica</td>\n",
       "      <td>998</td>\n",
       "    </tr>\n",
       "    <tr>\n",
       "      <th>3559</th>\n",
       "      <td>Sekretarz Stanu w Ministerstwie Aktywów Państw...</td>\n",
       "      <td>Pani Marszałek! Wysoka Izbo! Bardzo dziękuję w...</td>\n",
       "      <td>7</td>\n",
       "      <td>2024-03-06</td>\n",
       "      <td>KO</td>\n",
       "      <td>998</td>\n",
       "    </tr>\n",
       "    <tr>\n",
       "      <th>2719</th>\n",
       "      <td>Poseł Jarosław Sachajko</td>\n",
       "      <td>Pani Marszałek! Pani Minister! Wysoka Izbo! W ...</td>\n",
       "      <td>5</td>\n",
       "      <td>2024-02-07</td>\n",
       "      <td>Republikanie</td>\n",
       "      <td>998</td>\n",
       "    </tr>\n",
       "  </tbody>\n",
       "</table>\n",
       "<p>13304 rows × 6 columns</p>\n",
       "</div>"
      ],
      "text/plain": [
       "                                              politician  \\\n",
       "6952   Członek Państwowej Komisji do spraw Przeciwdzi...   \n",
       "24                Sekretarz Poseł Alicja Łepkowska-Gołaś   \n",
       "14027               Sekretarz Poseł Małgorzata Gromadzka   \n",
       "25                     Sekretarz Poseł Bożena Żelazowska   \n",
       "7697                            Poseł Piotr Paweł Strach   \n",
       "...                                                  ...   \n",
       "2532   Sekretarz Stanu w Ministerstwie Rozwoju i Tech...   \n",
       "2670                             Poseł Jarosław Sachajko   \n",
       "3197                                  Poseł Joanna Wicha   \n",
       "3559   Sekretarz Stanu w Ministerstwie Aktywów Państw...   \n",
       "2719                             Poseł Jarosław Sachajko   \n",
       "\n",
       "                                               utterance  sejm_session  \\\n",
       "6952                                  Ślubuję. (Oklaski)            13   \n",
       "24     Poseł Bożena Żelazowska: Ślubuję. Tak mi dopom...             1   \n",
       "14027  Informuję, że dziś odbędzie się posiedzenie Ko...            24   \n",
       "25      Poseł Alicja Łepkowska-Gołaś: Ślubuję. (Oklaski)             1   \n",
       "7697   W imieniu wnioskodawców chciałbym wycofać 6. w...            15   \n",
       "...                                                  ...           ...   \n",
       "2532   Szanowny Panie Marszałku! Wysoka Izbo! Panie p...             4   \n",
       "2670   Panie Marszałku najbardziej na świecie otwarte...             5   \n",
       "3197   Szanowna Pani Marszałek! Pani Minister! Wysoka...             6   \n",
       "3559   Pani Marszałek! Wysoka Izbo! Bardzo dziękuję w...             7   \n",
       "2719   Pani Marszałek! Pani Minister! Wysoka Izbo! W ...             5   \n",
       "\n",
       "             date   political_club  token_count  \n",
       "6952   2024-06-14  Nieznana partia           11  \n",
       "24     2023-11-13               KO           23  \n",
       "14027  2024-12-06               KO           23  \n",
       "25     2023-11-13           PSL-TD           24  \n",
       "7697   2024-07-12    Polska2050-TD           24  \n",
       "...           ...              ...          ...  \n",
       "2532   2024-01-26               KO          997  \n",
       "2670   2024-02-07     Republikanie          997  \n",
       "3197   2024-02-21           Lewica          998  \n",
       "3559   2024-03-06               KO          998  \n",
       "2719   2024-02-07     Republikanie          998  \n",
       "\n",
       "[13304 rows x 6 columns]"
      ]
     },
     "execution_count": 46,
     "metadata": {},
     "output_type": "execute_result"
    }
   ],
   "source": [
    "df_with_tokens[df_with_tokens[\"token_count\"] < 1000].sort_values(\"token_count\")"
   ]
  },
  {
   "cell_type": "code",
   "execution_count": 47,
   "id": "8c8ac7e7-8853-49e6-a0f5-173e48778cbb",
   "metadata": {},
   "outputs": [
    {
     "name": "stdout",
     "output_type": "stream",
     "text": [
      "13304\n",
      "                            politician  \\\n",
      "2725  Poseł Zbigniew Krzysztof Kuźmiuk   \n",
      "\n",
      "                                              utterance  sejm_session  \\\n",
      "2725  Pani Marszałek! Pani Minister! Wysoka Izbo! Pa...             5   \n",
      "\n",
      "            date political_club  token_count  \n",
      "2725  2024-02-07            PiS          348  \n"
     ]
    }
   ],
   "source": [
    "politycy_phrases_embeddings = df_with_tokens[df_with_tokens[\"token_count\"] < 1000]\n",
    "print(len(politycy_phrases_embeddings))\n",
    "print(politycy_phrases_embeddings.sample())"
   ]
  },
  {
   "cell_type": "markdown",
   "id": "8eda3b0e-04ef-4185-9ce8-3b8b083d98a6",
   "metadata": {},
   "source": [
    "## Konwersja dataframe'u z wypowiedziami na embeddings\n",
    "wykonanie \"get_embedding\" na każdej wypowiedzi z dataframe"
   ]
  },
  {
   "cell_type": "code",
   "execution_count": 48,
   "id": "78577a24-f5c8-4b2b-8d23-7c33686663d3",
   "metadata": {},
   "outputs": [
    {
     "name": "stdout",
     "output_type": "stream",
     "text": [
      "max_seq_length: 512\n"
     ]
    }
   ],
   "source": [
    "print(\"max_seq_length:\", model.max_seq_length)"
   ]
  },
  {
   "cell_type": "code",
   "execution_count": 49,
   "id": "e508b30f-c5a1-431b-a0fe-51a40c07130f",
   "metadata": {},
   "outputs": [
    {
     "name": "stderr",
     "output_type": "stream",
     "text": [
      "100%|██████████| 13304/13304 [25:47<00:00,  8.60it/s] \n"
     ]
    },
    {
     "name": "stdout",
     "output_type": "stream",
     "text": [
      "(13304, 4)\n"
     ]
    }
   ],
   "source": [
    "from tqdm import tqdm\n",
    "\n",
    "politycy_phrases_embeddings = [\n",
    "    (get_embedding(row[\"utterance\"]), row[\"politician\"], row[\"utterance\"], row['political_club']) \n",
    "    for _, row in tqdm(politycy_phrases_embeddings.iterrows(), total=len(politycy_phrases_embeddings))\n",
    "]\n",
    "\n",
    "df_politycy_phrases_embeddings = pd.DataFrame(politycy_phrases_embeddings, columns=[\"embedding\", \"politician\", \"utterance\", 'political_club'])\n",
    "print(df_politycy_phrases_embeddings.shape)\n",
    "\n",
    "data = []\n",
    "for idx, row in df_politycy_phrases_embeddings.iterrows():\n",
    "    embedding = row['embedding']  # Dostęp do kolumny 'embedding'\n",
    "    politician = row['politician']\n",
    "    utterance = row['utterance']\n",
    "    political_club = row['political_club']\n",
    "    \n",
    "    data.append({\n",
    "        \"embedding\": ','.join(map(str, embedding)),  # Zapis embeddingu jako string\n",
    "        \"politician\": politician,\n",
    "        \"utterance\": utterance,\n",
    "        \"political_club\": political_club\n",
    "    })\n",
    "\n",
    "df_politycy_phrases_embeddings = pd.DataFrame(data)\n",
    "#df_politycy_phrases_embeddings.to_excel('politycy_embeddings_stsb.xlsx', index=False)\n",
    "df_politycy_phrases_embeddings.to_excel('politycy_embeddings_minilm12.xlsx', index=False)"
   ]
  },
  {
   "cell_type": "code",
   "execution_count": null,
   "id": "df4d2c8f-ade1-4952-88d0-74d8474afe41",
   "metadata": {},
   "outputs": [],
   "source": [
    "len(df_politycy_phrases_embeddings)"
   ]
  },
  {
   "cell_type": "code",
   "execution_count": 22,
   "id": "cf8c0192-9bae-4c88-92b3-43f793a20991",
   "metadata": {},
   "outputs": [
    {
     "data": {
      "text/html": [
       "<div>\n",
       "<style scoped>\n",
       "    .dataframe tbody tr th:only-of-type {\n",
       "        vertical-align: middle;\n",
       "    }\n",
       "\n",
       "    .dataframe tbody tr th {\n",
       "        vertical-align: top;\n",
       "    }\n",
       "\n",
       "    .dataframe thead th {\n",
       "        text-align: right;\n",
       "    }\n",
       "</style>\n",
       "<table border=\"1\" class=\"dataframe\">\n",
       "  <thead>\n",
       "    <tr style=\"text-align: right;\">\n",
       "      <th></th>\n",
       "      <th>embedding</th>\n",
       "      <th>politician</th>\n",
       "      <th>utterance</th>\n",
       "      <th>political_club</th>\n",
       "    </tr>\n",
       "  </thead>\n",
       "  <tbody>\n",
       "    <tr>\n",
       "      <th>0</th>\n",
       "      <td>[-0.13537993, 0.3929176, 0.02940008, -0.283716...</td>\n",
       "      <td>Prezydent Rzeczypospolitej Polskiej Andrzej Duda</td>\n",
       "      <td>Ekscelencjo, Czcigodny Księże Arcybiskupie, Dz...</td>\n",
       "      <td>Nieznana partia</td>\n",
       "    </tr>\n",
       "    <tr>\n",
       "      <th>1</th>\n",
       "      <td>[0.06613037, 0.33783805, 0.32265285, 0.0248571...</td>\n",
       "      <td>Prezydent Rzeczypospolitej Polskiej Andrzej Duda</td>\n",
       "      <td>Dziękuję, dziękuję i jeszcze raz dziękuję wszy...</td>\n",
       "      <td>Nieznana partia</td>\n",
       "    </tr>\n",
       "    <tr>\n",
       "      <th>2</th>\n",
       "      <td>[-0.010987518, 0.08707595, -0.072819464, 0.147...</td>\n",
       "      <td>Prezydent Rzeczypospolitej Polskiej Andrzej Duda</td>\n",
       "      <td>Oczywiście my, Polacy, w wielu sprawach istotn...</td>\n",
       "      <td>Nieznana partia</td>\n",
       "    </tr>\n",
       "    <tr>\n",
       "      <th>3</th>\n",
       "      <td>[-0.13236119, 0.27273113, -0.3124308, -0.14640...</td>\n",
       "      <td>Prezydent Rzeczypospolitej Polskiej Andrzej Duda</td>\n",
       "      <td>Najważniejsze jednak jest to, że spory te rozs...</td>\n",
       "      <td>Nieznana partia</td>\n",
       "    </tr>\n",
       "    <tr>\n",
       "      <th>4</th>\n",
       "      <td>[-0.34609145, 0.33584738, -0.019541811, -0.048...</td>\n",
       "      <td>Prezydent Rzeczypospolitej Polskiej Andrzej Duda</td>\n",
       "      <td>Polacy ponownie uwierzyli, że ich głos ma znac...</td>\n",
       "      <td>Nieznana partia</td>\n",
       "    </tr>\n",
       "  </tbody>\n",
       "</table>\n",
       "</div>"
      ],
      "text/plain": [
       "                                           embedding  \\\n",
       "0  [-0.13537993, 0.3929176, 0.02940008, -0.283716...   \n",
       "1  [0.06613037, 0.33783805, 0.32265285, 0.0248571...   \n",
       "2  [-0.010987518, 0.08707595, -0.072819464, 0.147...   \n",
       "3  [-0.13236119, 0.27273113, -0.3124308, -0.14640...   \n",
       "4  [-0.34609145, 0.33584738, -0.019541811, -0.048...   \n",
       "\n",
       "                                         politician  \\\n",
       "0  Prezydent Rzeczypospolitej Polskiej Andrzej Duda   \n",
       "1  Prezydent Rzeczypospolitej Polskiej Andrzej Duda   \n",
       "2  Prezydent Rzeczypospolitej Polskiej Andrzej Duda   \n",
       "3  Prezydent Rzeczypospolitej Polskiej Andrzej Duda   \n",
       "4  Prezydent Rzeczypospolitej Polskiej Andrzej Duda   \n",
       "\n",
       "                                           utterance   political_club  \n",
       "0  Ekscelencjo, Czcigodny Księże Arcybiskupie, Dz...  Nieznana partia  \n",
       "1  Dziękuję, dziękuję i jeszcze raz dziękuję wszy...  Nieznana partia  \n",
       "2  Oczywiście my, Polacy, w wielu sprawach istotn...  Nieznana partia  \n",
       "3  Najważniejsze jednak jest to, że spory te rozs...  Nieznana partia  \n",
       "4  Polacy ponownie uwierzyli, że ich głos ma znac...  Nieznana partia  "
      ]
     },
     "execution_count": 22,
     "metadata": {},
     "output_type": "execute_result"
    }
   ],
   "source": [
    "df_politycy_phrases_embeddings.head(5)"
   ]
  },
  {
   "cell_type": "markdown",
   "id": "c04e9716-a757-4aa9-87dc-543e0eeaff38",
   "metadata": {},
   "source": [
    "# Porównywanie wypowiedzi użytkownika z politykami"
   ]
  },
  {
   "cell_type": "markdown",
   "id": "e2948b09-9c72-4ccf-8522-1d2ca6ae3f01",
   "metadata": {},
   "source": [
    "## Przygotowanie datasetu z excela\n",
    "Załadowanie datasetu z wypowiedziami polityków z rozszerzeniem .csv oraz dokonanie konwersji na obiekt typu array na kolumnie \"embedding\""
   ]
  },
  {
   "cell_type": "code",
   "execution_count": 3,
   "id": "411824aa-edd8-48f9-8a8a-11c3b93d3c81",
   "metadata": {},
   "outputs": [],
   "source": [
    "df_politycy_phrases_embeddings = pd.read_csv('politycy_embeddings_minilm12.csv', encoding='utf-8', sep=';')\n",
    "df_politycy_phrases_embeddings = df_politycy_phrases_embeddings.dropna(subset=[\"embedding\", \"politician\", \"utterance\", 'political_club'])"
   ]
  },
  {
   "cell_type": "code",
   "execution_count": 6,
   "id": "23c7cf08-ed5d-4282-a0db-d1cc5dad77d9",
   "metadata": {},
   "outputs": [
    {
     "data": {
      "text/html": [
       "<div>\n",
       "<style scoped>\n",
       "    .dataframe tbody tr th:only-of-type {\n",
       "        vertical-align: middle;\n",
       "    }\n",
       "\n",
       "    .dataframe tbody tr th {\n",
       "        vertical-align: top;\n",
       "    }\n",
       "\n",
       "    .dataframe thead th {\n",
       "        text-align: right;\n",
       "    }\n",
       "</style>\n",
       "<table border=\"1\" class=\"dataframe\">\n",
       "  <thead>\n",
       "    <tr style=\"text-align: right;\">\n",
       "      <th></th>\n",
       "      <th>embedding</th>\n",
       "      <th>politician</th>\n",
       "      <th>utterance</th>\n",
       "      <th>political_club</th>\n",
       "    </tr>\n",
       "  </thead>\n",
       "  <tbody>\n",
       "    <tr>\n",
       "      <th>11561</th>\n",
       "      <td>[0.22658972, 0.12388311, 0.08822335, -0.045189...</td>\n",
       "      <td>Poseł Patryk Wicher</td>\n",
       "      <td>Szanowna Pani Marszałek! Wysoka Izbo! Szanowni...</td>\n",
       "      <td>PiS</td>\n",
       "    </tr>\n",
       "  </tbody>\n",
       "</table>\n",
       "</div>"
      ],
      "text/plain": [
       "                                               embedding           politician  \\\n",
       "11561  [0.22658972, 0.12388311, 0.08822335, -0.045189...  Poseł Patryk Wicher   \n",
       "\n",
       "                                               utterance political_club  \n",
       "11561  Szanowna Pani Marszałek! Wysoka Izbo! Szanowni...            PiS  "
      ]
     },
     "execution_count": 6,
     "metadata": {},
     "output_type": "execute_result"
    }
   ],
   "source": [
    "df_politycy_phrases_embeddings.sample()"
   ]
  },
  {
   "cell_type": "code",
   "execution_count": 5,
   "id": "cddee22e-c525-4f4b-bd93-6df55502935d",
   "metadata": {},
   "outputs": [],
   "source": [
    "df_politycy_phrases_embeddings[\"embedding\"] = df_politycy_phrases_embeddings[\"embedding\"].apply(lambda x: np.array(list(map(float, x.split(',')))))"
   ]
  },
  {
   "cell_type": "code",
   "execution_count": 7,
   "id": "1832d56b-277b-405b-8b66-f98e693d1dd2",
   "metadata": {},
   "outputs": [
    {
     "name": "stdout",
     "output_type": "stream",
     "text": [
      "Liczba wierszy: 13304\n",
      "Kształt DataFrame: (13304, 4)\n"
     ]
    },
    {
     "data": {
      "text/html": [
       "<div>\n",
       "<style scoped>\n",
       "    .dataframe tbody tr th:only-of-type {\n",
       "        vertical-align: middle;\n",
       "    }\n",
       "\n",
       "    .dataframe tbody tr th {\n",
       "        vertical-align: top;\n",
       "    }\n",
       "\n",
       "    .dataframe thead th {\n",
       "        text-align: right;\n",
       "    }\n",
       "</style>\n",
       "<table border=\"1\" class=\"dataframe\">\n",
       "  <thead>\n",
       "    <tr style=\"text-align: right;\">\n",
       "      <th></th>\n",
       "      <th>embedding</th>\n",
       "      <th>politician</th>\n",
       "      <th>utterance</th>\n",
       "      <th>political_club</th>\n",
       "    </tr>\n",
       "  </thead>\n",
       "  <tbody>\n",
       "    <tr>\n",
       "      <th>6417</th>\n",
       "      <td>[0.06982937, 0.08433071, -0.23477678, 0.168101...</td>\n",
       "      <td>Poseł Elżbieta Duda</td>\n",
       "      <td>Szanowna pani marszałek, Wysoka Izbo, historia...</td>\n",
       "      <td>PiS</td>\n",
       "    </tr>\n",
       "  </tbody>\n",
       "</table>\n",
       "</div>"
      ],
      "text/plain": [
       "                                              embedding           politician  \\\n",
       "6417  [0.06982937, 0.08433071, -0.23477678, 0.168101...  Poseł Elżbieta Duda   \n",
       "\n",
       "                                              utterance political_club  \n",
       "6417  Szanowna pani marszałek, Wysoka Izbo, historia...            PiS  "
      ]
     },
     "metadata": {},
     "output_type": "display_data"
    }
   ],
   "source": [
    "print(f\"Liczba wierszy: {len(df_politycy_phrases_embeddings)}\")\n",
    "print(f\"Kształt DataFrame: {df_politycy_phrases_embeddings.shape}\")\n",
    "display(df_politycy_phrases_embeddings.sample())"
   ]
  },
  {
   "cell_type": "markdown",
   "id": "d5cce98e-4ee9-4469-9865-6c51353b16bd",
   "metadata": {},
   "source": [
    "## Porównywanie"
   ]
  },
  {
   "cell_type": "code",
   "execution_count": 23,
   "id": "84423b1c-d7ef-44cc-bd63-74c29e58d7a4",
   "metadata": {},
   "outputs": [
    {
     "name": "stdout",
     "output_type": "stream",
     "text": [
      "Zielona energia jest bardzo istotna i powinniśmy skupić się na rozwoju rozwiązaniach ekologicznych. Musimy redukować energię węglową i zastapić ją energią z wiatru czy z wody.\n",
      "Polityk: Poseł Marcin Skonieczka, Partia: Polska2050-TD, Podobieństwo: 0.6070108426793767, \n",
      " Wypowiedź: Panie Marszałku! Wysoka Izbo! 10 stycznia obchodzimy Dzień Obniżania Kosztów Energii. Inicjatywa ta została zapoczątkowana w 1995 r. przez organizację z Kanady. Celem tej inicjatywy jest promowanie działań mających na celu redukcję zużycia energii, co pozytywnie wpływa na ochronę środowiska i jednocześnie przekłada się na oszczędności finansowe. Oszczędzanie energii nie tylko odciąża domowe budżety, lecz również przyczynia się do redukcji emisji CO2, wspierając walkę ze zmianami klimatycznymi.W Dniu Obniżania Kosztów Energii zachęcam Polki i Polaków do zapoznania się z opublikowanym na stronach rządowych opracowaniem ˝Dobre praktyki w zakresie zmniejszenia zużycia energii˝. Niech Dzień Obniżania Kosztów Energii stanie się dla nas inspiracją do odpowiedzialnego i zrównoważonego gospodarowania energią. Takie działania przyniosą korzyść zarówno nam, jak i przyszłym pokoleniom. Dziękuję bardzo. \n",
      "\n",
      "Polityk: Poseł Jerzy Meysztowicz, Partia: KO, Podobieństwo: 0.6068143192268285, \n",
      " Wypowiedź: Panie Marszałku! Panie Ministrze! Wysoka Izbo! Wszyscy mamy świadomość, że do przetransportowania energii z farm wiatrowych na morzu potrzebne są sieci energetyczne, i to zmodyfikowane, i doinwestowane. Zastanawiam się, czy jedną z form produkcji energii elektrycznej jest oczywiście zielony wodór. Wydaje się, że naturalnym byłoby, żeby produkcja zielonego wodoru odbywała się na północy, tam, gdzie będą blisko zlokalizowane farmy wiatrowe, i wtedy trzeba w formie gazowej przetransportować ten zielony wodór do miejsc, gdzie mógłby być przetworzony na energię elektryczną. Faktem jest, że takie rozwiązania wydają się dosyć ciekawe. Natomiast jest jeden problem. W polskim prawie nie istnieją magazyny energii w formie gazowej. Czy ministerstwo podejmie działania (Dzwonek), żeby stworzyć takie rozwiązania, które umożliwiłyby to i potraktowałyby zbiorniki zielonego wodoru jako magazyny energii? Dziękuję bardzo. \n",
      "\n",
      "Polityk: Poseł Elżbieta Burkiewicz, Partia: Polska2050-TD, Podobieństwo: 0.5883979663479453, \n",
      " Wypowiedź: Tak jest.Pani Marszałkini! Pani Ministro! Wysoka Izbo! Rozmawiamy o sprawie bardzo ważnej, bo dotyczącej jakości naszego życia i zdrowia. Każdy już wie, jak ważna jest jakość powietrza, którym oddychamy, bo przecież smog zabija nas powoli, ale skutecznie. Ustawa przewiduje usprawnienia i zmiany w programach ˝Stop smog˝ i ˝Czyste powietrze˝. Przewiduje zmiany w ustawie dotyczące też zarządzania terenami zielonymi czy wprowadza miejskie plany adaptacji do zmian klimatu. Proponowane w ustawie zmiany przynoszą także korzyści ekonomiczne: rozwój zielonych technologii, zwiększenie dostępności funduszy publicznych oraz wsparcie dla gmin i organizacji pozarządowych, które sprzyjają rozwojowi zielonej gospodarki. To z kolei oznacza nowe miejsca pracy (Dzwonek) i inwestycje, które wzmocnią naszą pozycję gospodarczą.Bardzo dziękuję Ministerstwu Klimatu i Ochrony Środowiska za projekt tej ustawy. Dziękuję. \n",
      "\n"
     ]
    }
   ],
   "source": [
    "user_statement = \"Zielona energia jest bardzo istotna i powinniśmy skupić się na rozwoju rozwiązaniach ekologicznych. Musimy redukować energię węglową i zastapić ją energią z wiatru czy z wody.\"\n",
    "#user_input = \"Polacy potrzebują legalnej aborcji, ponieważ to jest prawo kobiety i nie można przymuszać kobiet.\"\n",
    "#user_input = \"Aborcja to zabójstwo dziecka i nie można tego zalegalizować. Jest to sprzeczne z jakimikolwiek prawami moralnymi i religijnymi\"\n",
    "#user_input = \"Aborcja powinna być dozwolona w przypadku gwaltu, ciężkiej choroby dziecka lub możliwej śmierci matki. Ale nigdy nie dozwolona na życzenie.\"\n",
    "#user_input = \"Prawo do posiadania broni powinno być dozwolone dla przeciętnego obywatela. Ludzie muszą mieć możliwość obrony wlasnej.\"\n",
    "#user_input = \"Polska powinna wspierać Ukrainę w tej wojnie i zagwarantować jej wszelką pomoc finansową i militarną.\"\n",
    "\n",
    "#avg_similarity, top_similarities = get_similarity(user_input, df_politycy_phrases_embeddings)\n",
    "similiar_results = get_similarity_politician(user_statement, df_politycy_phrases_embeddings)\n",
    "\n",
    "print(user_statement)\n",
    "for similarity, politician, political_club, utterance in similiar_results:\n",
    "    print(f\"Polityk: {politician}, Partia: {political_club}, Podobieństwo: {similarity}, \\n Wypowiedź: {utterance} \\n\")"
   ]
  },
  {
   "cell_type": "code",
   "execution_count": null,
   "id": "09c9eaf5-7558-4514-ba90-228be5b57711",
   "metadata": {},
   "outputs": [],
   "source": []
  }
 ],
 "metadata": {
  "kernelspec": {
   "display_name": "Python 3 (ipykernel)",
   "language": "python",
   "name": "python3"
  },
  "language_info": {
   "codemirror_mode": {
    "name": "ipython",
    "version": 3
   },
   "file_extension": ".py",
   "mimetype": "text/x-python",
   "name": "python",
   "nbconvert_exporter": "python",
   "pygments_lexer": "ipython3",
   "version": "3.12.3"
  }
 },
 "nbformat": 4,
 "nbformat_minor": 5
}

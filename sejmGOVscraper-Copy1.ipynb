{
 "cells": [
  {
   "cell_type": "code",
   "execution_count": 1,
   "id": "b28f7778-a85a-47df-b0ae-085635acda2b",
   "metadata": {
    "scrolled": true
   },
   "outputs": [
    {
     "name": "stderr",
     "output_type": "stream",
     "text": [
      "C:\\Users\\Sikma\\AppData\\Roaming\\Python\\Python312\\site-packages\\transformers\\utils\\hub.py:128: FutureWarning: Using `TRANSFORMERS_CACHE` is deprecated and will be removed in v5 of Transformers. Use `HF_HOME` instead.\n",
      "  warnings.warn(\n"
     ]
    },
    {
     "name": "stdout",
     "output_type": "stream",
     "text": [
      "WARNING:tensorflow:From I:\\Anaconda\\Lib\\site-packages\\tf_keras\\src\\losses.py:2976: The name tf.losses.sparse_softmax_cross_entropy is deprecated. Please use tf.compat.v1.losses.sparse_softmax_cross_entropy instead.\n",
      "\n"
     ]
    }
   ],
   "source": [
    "import requests\n",
    "from bs4 import BeautifulSoup\n",
    "from sklearn.metrics.pairwise import cosine_similarity\n",
    "import pandas as pd\n",
    "import numpy as np\n",
    "import time\n",
    "import os\n",
    "\n",
    "from sentence_transformers import SentenceTransformer"
   ]
  },
  {
   "cell_type": "markdown",
   "id": "0d004e23-8370-4b3a-a0f8-dd1e03022cea",
   "metadata": {
    "jp-MarkdownHeadingCollapsed": true
   },
   "source": [
    "# Scrapping danych i zapis"
   ]
  },
  {
   "cell_type": "markdown",
   "id": "41a63398-18d8-4252-9700-b459daf2e12d",
   "metadata": {
    "jp-MarkdownHeadingCollapsed": true
   },
   "source": [
    "## Utworzenie dataframe i słownika dat\n",
    "utworzenie pustego dataframe politicians_df z potrzebnymi kolumnami i stworzenie słownika ze wszystkimi datami i posiedzeniami sejmu"
   ]
  },
  {
   "cell_type": "code",
   "execution_count": 2,
   "id": "12b71249-f11d-45c8-a692-f3394b52c0bc",
   "metadata": {},
   "outputs": [],
   "source": [
    "politicians_df = pd.DataFrame(columns=[\"politician\", \"political_club\", \"utterance\", \"sejm_session\", \"date\"])"
   ]
  },
  {
   "cell_type": "code",
   "execution_count": 3,
   "id": "68c5d0a1-f8e0-4d94-8f9b-24a534dbf9a2",
   "metadata": {},
   "outputs": [],
   "source": [
    "gov_meetings_dict = {\n",
    "    \"2023-11-13\": [1],\n",
    "    \"2023-11-14\": [1],\n",
    "    \"2023-11-21\": [1],\n",
    "    \"2023-11-22\": [1],\n",
    "    \"2023-11-28\": [1],\n",
    "    \"2023-11-29\": [1],\n",
    "    \"2023-12-06\": [1],\n",
    "    \"2023-12-07\": [1],\n",
    "    \"2023-12-11\": [1],\n",
    "    \"2023-12-12\": [1],\n",
    "    \"2023-12-19\": [1],\n",
    "    \"2023-12-20\": [1],\n",
    "    \"2023-12-21\": [1],\n",
    "    \"2024-01-16\": [2],\n",
    "    \"2024-01-17\": [2],\n",
    "    \"2024-01-18\": [3],\n",
    "    \"2024-01-25\": [4],\n",
    "    \"2024-01-26\": [4],\n",
    "    \"2024-02-07\": [5],\n",
    "    \"2024-02-08\": [5],\n",
    "    \"2024-02-09\": [5],\n",
    "    \"2024-02-21\": [6],\n",
    "    \"2024-02-22\": [6],\n",
    "    \"2024-03-06\": [7],\n",
    "    \"2024-03-07\": [7],\n",
    "    \"2024-03-08\": [7],\n",
    "    \"2024-03-20\": [8],\n",
    "    \"2024-03-21\": [8],\n",
    "    \"2024-04-10\": [9],\n",
    "    \"2024-04-11\": [9],\n",
    "    \"2024-04-12\": [9],\n",
    "    \"2024-04-24\": [10],\n",
    "    \"2024-04-25\": [10],\n",
    "    \"2024-04-26\": [10],\n",
    "    \"2024-05-08\": [11],\n",
    "    \"2024-05-09\": [11],\n",
    "    \"2024-05-15\": [11],\n",
    "    \"2024-05-22\": [12],\n",
    "    \"2024-05-23\": [12],\n",
    "    \"2024-06-12\": [13],\n",
    "    \"2024-06-13\": [13],\n",
    "    \"2024-06-14\": [13],\n",
    "    \"2024-06-26\": [14],\n",
    "    \"2024-06-27\": [14],\n",
    "    \"2024-06-28\": [14],\n",
    "    \"2024-07-11\": [15],\n",
    "    \"2024-07-12\": [15],\n",
    "    \"2024-07-23\": [16],\n",
    "    \"2024-07-24\": [16],\n",
    "    \"2024-07-25\": [16],\n",
    "    \"2024-07-26\": [16],\n",
    "    \"2024-09-11\": [17],\n",
    "    \"2024-09-12\": [17],\n",
    "    \"2024-09-13\": [17],\n",
    "    \"2024-09-25\": [18],\n",
    "    \"2024-09-26\": [18],\n",
    "    \"2024-09-27\": [18],\n",
    "    \"2024-10-01\": [18],\n",
    "    \"2024-10-09\": [19],\n",
    "    \"2024-10-10\": [19],\n",
    "    \"2024-10-11\": [19],\n",
    "    \"2024-10-16\": [20],\n",
    "    \"2024-10-17\": [20],\n",
    "    \"2024-10-18\": [20],\n",
    "    \"2024-11-06\": [21],\n",
    "    \"2024-11-07\": [21],\n",
    "    \"2024-11-08\": [21],\n",
    "    \"2024-11-19\": [22],\n",
    "    \"2024-11-20\": [22],\n",
    "    \"2024-11-21\": [22],\n",
    "    \"2024-11-22\": [22],\n",
    "    \"2024-11-27\": [22],\n",
    "    \"2024-12-04\": [23],\n",
    "    \"2024-12-05\": [23],\n",
    "    \"2024-12-06\": [24],\n",
    "    \"2024-12-18\": [25],\n",
    "    \"2024-12-19\": [25],\n",
    "    \"2024-12-20\": [25],\n",
    "    \"2025-01-08\": [26],\n",
    "    \"2025-01-09\": [26],\n",
    "    \"2025-01-10\": [26],\n",
    "    \"2025-01-22\": [27],\n",
    "    \"2025-01-23\": [27],\n",
    "    \"2025-01-24\": [27]\n",
    "}\n"
   ]
  },
  {
   "cell_type": "markdown",
   "id": "ac623e7e-d5e8-40b9-a3a9-483b97651b1e",
   "metadata": {
    "jp-MarkdownHeadingCollapsed": true
   },
   "source": [
    "## Scrapping danych przy użyciu sejmowego API\n",
    "- przeiterowanie po każdej dacie i numerze posiedzenia sejmu,\n",
    "- stworzenie URL do API sejmu zawierającego konkretną datę oraz posiedzenie i pobranie każdej wypowiedzi z danego zebrania\n",
    "- wyjęcie z 'h2' polityka (politician)\n",
    "- wyjęcie zmiędzy paragrafów 'p' wypowiedzi (utterance)\n",
    "- zapisanie wszystkiego do politicians_df"
   ]
  },
  {
   "cell_type": "code",
   "execution_count": 4,
   "id": "174fd323-ac2a-49e6-aec1-ad3e2d7a0287",
   "metadata": {
    "scrolled": true
   },
   "outputs": [
    {
     "name": "stdout",
     "output_type": "stream",
     "text": [
      "Koniec wypowiedzi. Odnotowano: 43 przemówień\n",
      "Czas posiedzenia nr 1 o dacie 2023-11-13: 26.31 sekundy \n",
      "\n",
      "Koniec wypowiedzi. Odnotowano: 18 przemówień\n",
      "Czas posiedzenia nr 1 o dacie 2023-11-14: 10.34 sekundy \n",
      "\n",
      "Koniec wypowiedzi. Odnotowano: 33 przemówień\n",
      "Czas posiedzenia nr 1 o dacie 2023-11-21: 18.40 sekundy \n",
      "\n",
      "Koniec wypowiedzi. Odnotowano: 116 przemówień\n",
      "Czas posiedzenia nr 1 o dacie 2023-11-22: 67.61 sekundy \n",
      "\n",
      "Koniec wypowiedzi. Odnotowano: 191 przemówień\n",
      "Czas posiedzenia nr 1 o dacie 2023-11-28: 105.04 sekundy \n",
      "\n",
      "Koniec wypowiedzi. Odnotowano: 238 przemówień\n",
      "Czas posiedzenia nr 1 o dacie 2023-11-29: 136.37 sekundy \n",
      "\n",
      "Koniec wypowiedzi. Odnotowano: 156 przemówień\n",
      "Czas posiedzenia nr 1 o dacie 2023-12-06: 85.88 sekundy \n",
      "\n",
      "Koniec wypowiedzi. Odnotowano: 185 przemówień\n",
      "Czas posiedzenia nr 1 o dacie 2023-12-07: 106.51 sekundy \n",
      "\n",
      "Koniec wypowiedzi. Odnotowano: 161 przemówień\n",
      "Czas posiedzenia nr 1 o dacie 2023-12-11: 89.25 sekundy \n",
      "\n",
      "Koniec wypowiedzi. Odnotowano: 268 przemówień\n",
      "Czas posiedzenia nr 1 o dacie 2023-12-12: 171.69 sekundy \n",
      "\n",
      "Koniec wypowiedzi. Odnotowano: 163 przemówień\n",
      "Czas posiedzenia nr 1 o dacie 2023-12-19: 103.36 sekundy \n",
      "\n",
      "Koniec wypowiedzi. Odnotowano: 139 przemówień\n",
      "Czas posiedzenia nr 1 o dacie 2023-12-20: 81.83 sekundy \n",
      "\n",
      "Koniec wypowiedzi. Odnotowano: 217 przemówień\n",
      "Czas posiedzenia nr 1 o dacie 2023-12-21: 120.58 sekundy \n",
      "\n",
      "Koniec wypowiedzi. Odnotowano: 191 przemówień\n",
      "Czas posiedzenia nr 2 o dacie 2024-01-16: 106.08 sekundy \n",
      "\n",
      "Koniec wypowiedzi. Odnotowano: 158 przemówień\n",
      "Czas posiedzenia nr 2 o dacie 2024-01-17: 92.77 sekundy \n",
      "\n",
      "Koniec wypowiedzi. Odnotowano: 53 przemówień\n",
      "Czas posiedzenia nr 3 o dacie 2024-01-18: 29.68 sekundy \n",
      "\n",
      "Koniec wypowiedzi. Odnotowano: 172 przemówień\n",
      "Czas posiedzenia nr 4 o dacie 2024-01-25: 96.38 sekundy \n",
      "\n",
      "Koniec wypowiedzi. Odnotowano: 189 przemówień\n",
      "Czas posiedzenia nr 4 o dacie 2024-01-26: 98.98 sekundy \n",
      "\n",
      "Koniec wypowiedzi. Odnotowano: 169 przemówień\n",
      "Czas posiedzenia nr 5 o dacie 2024-02-07: 88.36 sekundy \n",
      "\n",
      "Koniec wypowiedzi. Odnotowano: 248 przemówień\n",
      "Czas posiedzenia nr 5 o dacie 2024-02-08: 126.60 sekundy \n",
      "\n",
      "Koniec wypowiedzi. Odnotowano: 99 przemówień\n",
      "Czas posiedzenia nr 5 o dacie 2024-02-09: 52.94 sekundy \n",
      "\n",
      "Koniec wypowiedzi. Odnotowano: 141 przemówień\n",
      "Czas posiedzenia nr 6 o dacie 2024-02-21: 75.24 sekundy \n",
      "\n",
      "Koniec wypowiedzi. Odnotowano: 204 przemówień\n",
      "Czas posiedzenia nr 6 o dacie 2024-02-22: 106.37 sekundy \n",
      "\n",
      "Koniec wypowiedzi. Odnotowano: 244 przemówień\n",
      "Czas posiedzenia nr 7 o dacie 2024-03-06: 129.92 sekundy \n",
      "\n",
      "Koniec wypowiedzi. Odnotowano: 245 przemówień\n",
      "Czas posiedzenia nr 7 o dacie 2024-03-07: 128.48 sekundy \n",
      "\n",
      "Koniec wypowiedzi. Odnotowano: 60 przemówień\n",
      "Czas posiedzenia nr 7 o dacie 2024-03-08: 38.80 sekundy \n",
      "\n",
      "Koniec wypowiedzi. Odnotowano: 202 przemówień\n",
      "Czas posiedzenia nr 8 o dacie 2024-03-20: 104.58 sekundy \n",
      "\n",
      "Koniec wypowiedzi. Odnotowano: 128 przemówień\n",
      "Czas posiedzenia nr 8 o dacie 2024-03-21: 66.23 sekundy \n",
      "\n",
      "Koniec wypowiedzi. Odnotowano: 165 przemówień\n",
      "Czas posiedzenia nr 9 o dacie 2024-04-10: 86.44 sekundy \n",
      "\n",
      "Koniec wypowiedzi. Odnotowano: 264 przemówień\n",
      "Czas posiedzenia nr 9 o dacie 2024-04-11: 138.65 sekundy \n",
      "\n",
      "Koniec wypowiedzi. Odnotowano: 129 przemówień\n",
      "Czas posiedzenia nr 9 o dacie 2024-04-12: 66.67 sekundy \n",
      "\n",
      "Koniec wypowiedzi. Odnotowano: 204 przemówień\n",
      "Czas posiedzenia nr 10 o dacie 2024-04-24: 119.05 sekundy \n",
      "\n",
      "Koniec wypowiedzi. Odnotowano: 137 przemówień\n",
      "Czas posiedzenia nr 10 o dacie 2024-04-25: 89.20 sekundy \n",
      "\n",
      "Koniec wypowiedzi. Odnotowano: 178 przemówień\n",
      "Czas posiedzenia nr 10 o dacie 2024-04-26: 115.93 sekundy \n",
      "\n",
      "Koniec wypowiedzi. Odnotowano: 207 przemówień\n",
      "Czas posiedzenia nr 11 o dacie 2024-05-08: 129.76 sekundy \n",
      "\n",
      "Koniec wypowiedzi. Odnotowano: 272 przemówień\n",
      "Czas posiedzenia nr 11 o dacie 2024-05-09: 159.87 sekundy \n",
      "\n",
      "Koniec wypowiedzi. Odnotowano: 240 przemówień\n",
      "Czas posiedzenia nr 11 o dacie 2024-05-15: 147.57 sekundy \n",
      "\n",
      "Koniec wypowiedzi. Odnotowano: 230 przemówień\n",
      "Czas posiedzenia nr 12 o dacie 2024-05-22: 131.32 sekundy \n",
      "\n",
      "Koniec wypowiedzi. Odnotowano: 174 przemówień\n",
      "Czas posiedzenia nr 12 o dacie 2024-05-23: 106.57 sekundy \n",
      "\n",
      "Koniec wypowiedzi. Odnotowano: 126 przemówień\n",
      "Czas posiedzenia nr 13 o dacie 2024-06-12: 76.49 sekundy \n",
      "\n",
      "Koniec wypowiedzi. Odnotowano: 243 przemówień\n",
      "Czas posiedzenia nr 13 o dacie 2024-06-13: 142.38 sekundy \n",
      "\n",
      "Koniec wypowiedzi. Odnotowano: 52 przemówień\n",
      "Czas posiedzenia nr 13 o dacie 2024-06-14: 29.37 sekundy \n",
      "\n",
      "Koniec wypowiedzi. Odnotowano: 1 przemówień\n",
      "Czas posiedzenia nr 14 o dacie 2024-06-26: 1.58 sekundy \n",
      "\n",
      "Koniec wypowiedzi. Odnotowano: 256 przemówień\n",
      "Czas posiedzenia nr 14 o dacie 2024-06-27: 146.88 sekundy \n",
      "\n",
      "Koniec wypowiedzi. Odnotowano: 96 przemówień\n",
      "Czas posiedzenia nr 14 o dacie 2024-06-28: 57.33 sekundy \n",
      "\n",
      "Koniec wypowiedzi. Odnotowano: 245 przemówień\n",
      "Czas posiedzenia nr 15 o dacie 2024-07-11: 147.22 sekundy \n",
      "\n",
      "Koniec wypowiedzi. Odnotowano: 143 przemówień\n",
      "Czas posiedzenia nr 15 o dacie 2024-07-12: 84.30 sekundy \n",
      "\n",
      "Koniec wypowiedzi. Odnotowano: 230 przemówień\n",
      "Czas posiedzenia nr 16 o dacie 2024-07-23: 133.17 sekundy \n",
      "\n",
      "Koniec wypowiedzi. Odnotowano: 256 przemówień\n",
      "Czas posiedzenia nr 16 o dacie 2024-07-24: 144.73 sekundy \n",
      "\n",
      "Koniec wypowiedzi. Odnotowano: 203 przemówień\n",
      "Czas posiedzenia nr 16 o dacie 2024-07-25: 118.48 sekundy \n",
      "\n",
      "Koniec wypowiedzi. Odnotowano: 160 przemówień\n",
      "Czas posiedzenia nr 16 o dacie 2024-07-26: 93.64 sekundy \n",
      "\n",
      "Koniec wypowiedzi. Odnotowano: 176 przemówień\n",
      "Czas posiedzenia nr 17 o dacie 2024-09-11: 105.79 sekundy \n",
      "\n",
      "Koniec wypowiedzi. Odnotowano: 228 przemówień\n",
      "Czas posiedzenia nr 17 o dacie 2024-09-12: 134.29 sekundy \n",
      "\n",
      "Koniec wypowiedzi. Odnotowano: 185 przemówień\n",
      "Czas posiedzenia nr 17 o dacie 2024-09-13: 113.05 sekundy \n",
      "\n",
      "Koniec wypowiedzi. Odnotowano: 211 przemówień\n",
      "Czas posiedzenia nr 18 o dacie 2024-09-25: 122.97 sekundy \n",
      "\n",
      "Koniec wypowiedzi. Odnotowano: 327 przemówień\n",
      "Czas posiedzenia nr 18 o dacie 2024-09-26: 199.48 sekundy \n",
      "\n",
      "Koniec wypowiedzi. Odnotowano: 171 przemówień\n",
      "Czas posiedzenia nr 18 o dacie 2024-09-27: 100.41 sekundy \n",
      "\n",
      "Koniec wypowiedzi. Odnotowano: 294 przemówień\n",
      "Czas posiedzenia nr 18 o dacie 2024-10-01: 169.09 sekundy \n",
      "\n",
      "Koniec wypowiedzi. Odnotowano: 152 przemówień\n",
      "Czas posiedzenia nr 19 o dacie 2024-10-09: 90.62 sekundy \n",
      "\n",
      "Koniec wypowiedzi. Odnotowano: 254 przemówień\n",
      "Czas posiedzenia nr 19 o dacie 2024-10-10: 148.16 sekundy \n",
      "\n",
      "Koniec wypowiedzi. Odnotowano: 177 przemówień\n",
      "Czas posiedzenia nr 19 o dacie 2024-10-11: 103.19 sekundy \n",
      "\n",
      "Koniec wypowiedzi. Odnotowano: 180 przemówień\n",
      "Czas posiedzenia nr 20 o dacie 2024-10-16: 104.99 sekundy \n",
      "\n",
      "Koniec wypowiedzi. Odnotowano: 279 przemówień\n",
      "Czas posiedzenia nr 20 o dacie 2024-10-17: 189.19 sekundy \n",
      "\n",
      "Koniec wypowiedzi. Odnotowano: 72 przemówień\n",
      "Czas posiedzenia nr 20 o dacie 2024-10-18: 42.03 sekundy \n",
      "\n",
      "Koniec wypowiedzi. Odnotowano: 234 przemówień\n",
      "Czas posiedzenia nr 21 o dacie 2024-11-06: 142.01 sekundy \n",
      "\n",
      "Koniec wypowiedzi. Odnotowano: 326 przemówień\n",
      "Czas posiedzenia nr 21 o dacie 2024-11-07: 211.58 sekundy \n",
      "\n",
      "Koniec wypowiedzi. Odnotowano: 271 przemówień\n",
      "Czas posiedzenia nr 21 o dacie 2024-11-08: 182.36 sekundy \n",
      "\n",
      "Koniec wypowiedzi. Odnotowano: 232 przemówień\n",
      "Czas posiedzenia nr 22 o dacie 2024-11-19: 158.49 sekundy \n",
      "\n",
      "Koniec wypowiedzi. Odnotowano: 349 przemówień\n",
      "Czas posiedzenia nr 22 o dacie 2024-11-20: 228.77 sekundy \n",
      "\n",
      "Koniec wypowiedzi. Odnotowano: 306 przemówień\n",
      "Czas posiedzenia nr 22 o dacie 2024-11-21: 194.76 sekundy \n",
      "\n",
      "Koniec wypowiedzi. Odnotowano: 196 przemówień\n",
      "Czas posiedzenia nr 22 o dacie 2024-11-22: 117.23 sekundy \n",
      "\n",
      "Koniec wypowiedzi. Odnotowano: 285 przemówień\n",
      "Czas posiedzenia nr 22 o dacie 2024-11-27: 166.18 sekundy \n",
      "\n",
      "Koniec wypowiedzi. Odnotowano: 262 przemówień\n",
      "Czas posiedzenia nr 23 o dacie 2024-12-04: 135.41 sekundy \n",
      "\n",
      "Koniec wypowiedzi. Odnotowano: 303 przemówień\n",
      "Czas posiedzenia nr 23 o dacie 2024-12-05: 167.63 sekundy \n",
      "\n",
      "Koniec wypowiedzi. Odnotowano: 72 przemówień\n",
      "Czas posiedzenia nr 24 o dacie 2024-12-06: 43.03 sekundy \n",
      "\n",
      "Koniec wypowiedzi. Odnotowano: 188 przemówień\n",
      "Czas posiedzenia nr 25 o dacie 2024-12-18: 129.17 sekundy \n",
      "\n",
      "Koniec wypowiedzi. Odnotowano: 250 przemówień\n",
      "Czas posiedzenia nr 25 o dacie 2024-12-19: 139.01 sekundy \n",
      "\n",
      "Koniec wypowiedzi. Odnotowano: 83 przemówień\n",
      "Czas posiedzenia nr 25 o dacie 2024-12-20: 48.72 sekundy \n",
      "\n",
      "Koniec wypowiedzi. Odnotowano: 279 przemówień\n",
      "Czas posiedzenia nr 26 o dacie 2025-01-08: 157.17 sekundy \n",
      "\n",
      "Koniec wypowiedzi. Odnotowano: 246 przemówień\n",
      "Czas posiedzenia nr 26 o dacie 2025-01-09: 150.50 sekundy \n",
      "\n",
      "Koniec wypowiedzi. Odnotowano: 108 przemówień\n",
      "Czas posiedzenia nr 26 o dacie 2025-01-10: 62.17 sekundy \n",
      "\n",
      "Koniec wypowiedzi. Odnotowano: 225 przemówień\n",
      "Czas posiedzenia nr 27 o dacie 2025-01-22: 123.10 sekundy \n",
      "\n",
      "Koniec wypowiedzi. Odnotowano: 266 przemówień\n",
      "Czas posiedzenia nr 27 o dacie 2025-01-23: 158.57 sekundy \n",
      "\n",
      "Koniec wypowiedzi. Odnotowano: 133 przemówień\n",
      "Czas posiedzenia nr 27 o dacie 2025-01-24: 80.58 sekundy \n",
      "\n"
     ]
    }
   ],
   "source": [
    "for name, key in gov_meetings_dict.items():\n",
    "    for number in key:\n",
    "        i = 1\n",
    "        start_time = time.time()\n",
    "        while True:\n",
    "            url = f\"https://api.sejm.gov.pl/sejm/term10/proceedings/{number}/{name}/transcripts/{i}\"\n",
    "            page = requests.get(url)\n",
    "            soup = BeautifulSoup(page.text, 'html')\n",
    "        \n",
    "            element = soup.find('h2', class_='mowca')\n",
    "            if element is not None:\n",
    "                politician = element.text.strip()[:-1]\n",
    "            else:\n",
    "                print(f'Koniec wypowiedzi. Odnotowano: {i} przemówień')\n",
    "                break\n",
    "        \n",
    "            utterance_elements = []\n",
    "            for p in soup.find_all('p')[1:]:\n",
    "                utterance_elements.append(p.text.strip())\n",
    "            utterance = \"\".join(utterance_elements).strip()\n",
    "        \n",
    "            nowy_wiersz = pd.DataFrame({\"politician\": [politician], \n",
    "                                        \"utterance\": [utterance], \n",
    "                                        \"sejm_session\": [number], \n",
    "                                        \"date\": [name]})\n",
    "            politicians_df = pd.concat([politicians_df, nowy_wiersz], ignore_index=True)\n",
    "        \n",
    "            i = i+1\n",
    "        end_time = time.time()\n",
    "        print(f'Czas posiedzenia nr {number} o dacie {name}: {end_time-start_time:.2f} sekundy \\n')"
   ]
  },
  {
   "cell_type": "markdown",
   "id": "4e7ea679-8e65-402d-85a7-a77f843b4720",
   "metadata": {
    "jp-MarkdownHeadingCollapsed": true
   },
   "source": [
    "## Sprawdzenie poprawności dataframe\n",
    "różne informacje: pierwsza wartość, próbka, shape itp."
   ]
  },
  {
   "cell_type": "code",
   "execution_count": 5,
   "id": "6aca7447-bc52-42a2-9348-c74b9f803b60",
   "metadata": {},
   "outputs": [
    {
     "data": {
      "text/plain": [
       "'Prezydent Rzeczypospolitej Polskiej Andrzej Duda'"
      ]
     },
     "execution_count": 5,
     "metadata": {},
     "output_type": "execute_result"
    }
   ],
   "source": [
    "politicians_df.iloc[0,0]"
   ]
  },
  {
   "cell_type": "code",
   "execution_count": 6,
   "id": "969763d6-eaff-4c5c-a754-5960ed5e317e",
   "metadata": {},
   "outputs": [
    {
     "data": {
      "text/plain": [
       "'Szanowna Pani Marszałek! Szanowna Izbo! Zanim zostałem posłem, byłem radnym \\r\\nmiasta Częstochowy. To jest pierwsze miasto w Polsce, które wprowadziło in \\r\\nvitro w 2012 r. W 2015 r. był taki moment, że radni Częstochowy chcieli \\r\\nzaktualizować ten program, zwiększyć kwotę przyznawaną parom i klub Lewicy i \\r\\nPlatformy był za, a klub PiS-u był przeciw.W 2015 r. to głosy naszego częstochowskiego klubu, klubu mieszkańców \\r\\nCzęstochowy, zdecydowały o tym, że do tej pory w Częstochowie funkcjonuje in \\r\\nvitro i urodziło się 77 dzieci.Cieszę się, że historia zatacza koło, bo wtedy w Częstochowie mieliśmy duży \\r\\ndylemat przez to, że mieszkańcy, osoby zameldowane w Częstochowie mogą \\r\\nkorzystać z tego programu, a mieszkańcy sąsiednich gmin (Dzwonek) jak \\r\\nBlachownia, Koniecpol czy Lubliniec - nie. Cieszę się, że mogę to dzisiaj \\r\\nnaprawić i razem z państwem zagłosować za in vitro. Dziękuję bardzo. \\r\\n(Oklaski)'"
      ]
     },
     "execution_count": 6,
     "metadata": {},
     "output_type": "execute_result"
    }
   ],
   "source": [
    "politicians_df.sample().iloc[0,1]"
   ]
  },
  {
   "cell_type": "code",
   "execution_count": 8,
   "id": "0bf997d3-f27c-466f-a066-e163b04e551b",
   "metadata": {},
   "outputs": [
    {
     "data": {
      "text/plain": [
       "(15878, 4)"
      ]
     },
     "execution_count": 8,
     "metadata": {},
     "output_type": "execute_result"
    }
   ],
   "source": [
    "politicians_df.shape"
   ]
  },
  {
   "cell_type": "code",
   "execution_count": 9,
   "id": "46d97587-cf0b-401d-a028-3fb908caf23b",
   "metadata": {},
   "outputs": [
    {
     "data": {
      "text/plain": [
       "politician\n",
       "Poseł Witold Tumanowicz                                                                                                       360\n",
       "Poseł Jarosław Sachajko                                                                                                       322\n",
       "Poseł Zbigniew Bogucki                                                                                                        205\n",
       "Poseł Tadeusz Tomaszewski                                                                                                     199\n",
       "Poseł Grzegorz Braun                                                                                                          182\n",
       "                                                                                                                             ... \n",
       "Poseł Zbigniew Chmielowiec (tekst niewygłoszony)                                                                                1\n",
       "Poseł Sprawozdawca Alicja Chybicka                                                                                              1\n",
       "Poseł Sprawozdawca Aleksandra Kot                                                                                               1\n",
       "Poseł Sprawozdawca Agnieszka Maria Kłopotek                                                                                     1\n",
       "Członek Państwowej Komisji do spraw Przeciwdziałania Wykorzystaniu Seksualnemu Małoletnich Poniżej Lat 15 Joanna Napierała      1\n",
       "Length: 864, dtype: int64"
      ]
     },
     "execution_count": 9,
     "metadata": {},
     "output_type": "execute_result"
    }
   ],
   "source": [
    "politicians_df.groupby('politician').size().sort_values(ascending=False)"
   ]
  },
  {
   "cell_type": "markdown",
   "id": "8bf3176f-e81a-487f-a77c-ab26411c10dd",
   "metadata": {
    "jp-MarkdownHeadingCollapsed": true
   },
   "source": [
    "## Dodanie danych o partiach politycznych\n",
    "wykorzystanie sejmowego API do stworzenia słownika zawierającego partie polityczne i ich posłów, a następnie przeiterowanie po datasecie politicians_df aby nadać politykom ich kluby"
   ]
  },
  {
   "cell_type": "code",
   "execution_count": 8,
   "id": "91cf8a8f-0ea2-4814-a0ff-8a50099f2272",
   "metadata": {},
   "outputs": [],
   "source": [
    "url_politicians = \"https://api.sejm.gov.pl/sejm/term10/MP\"\n",
    "page_politicians = requests.get(url_politicians)\n",
    "political_parties_data = page_politicians.json()"
   ]
  },
  {
   "cell_type": "code",
   "execution_count": 11,
   "id": "72c2de45-267d-4b8d-aa1c-c955843b3d6d",
   "metadata": {},
   "outputs": [],
   "source": [
    "club_dict = {}\n",
    "\n",
    "for person in data:\n",
    "    club = person.get(\"club\", \"Brak klubu\")  # Pobieramy klub, jeśli brak to \"Brak klubu\"\n",
    "    name = person.get(\"firstLastName\", \"Nieznany\")  # Pobieramy imię i nazwisko\n",
    "\n",
    "    # Dodajemy do słownika\n",
    "    if club in club_dict:\n",
    "        club_dict[club].append(name)\n",
    "    else:\n",
    "        club_dict[club] = [name]\n",
    "\n",
    "#for club, names in club_dict.items():\n",
    "#    print(f\"{club}: {', '.join(names)}\")"
   ]
  },
  {
   "cell_type": "code",
   "execution_count": 13,
   "id": "fd55b8d2-88df-48fa-a0fd-2bdfb97cdc64",
   "metadata": {},
   "outputs": [],
   "source": [
    "politicians_df[\"political_club\"] = \"\""
   ]
  },
  {
   "cell_type": "code",
   "execution_count": 22,
   "id": "8cb1ea3f-c218-4d9a-adec-7d373caec735",
   "metadata": {},
   "outputs": [],
   "source": [
    "def assign_political_club(row):\n",
    "    politician_name = row[\"politician\"]  # Pełna nazwa polityka z tytułem\n",
    "\n",
    "    for club, names in club_dict.items():\n",
    "        if any(name in politician_name for name in names):  # Szukamy nazwiska w całym stringu\n",
    "            return club\n",
    "    return \"Nieznana partia\"\n",
    "\n",
    "politicians_df[\"political_club\"] = politicians_df.apply(assign_political_club, axis=1)"
   ]
  },
  {
   "cell_type": "code",
   "execution_count": 35,
   "id": "d5e9e93e-d337-4931-a0c7-4590d3ad3b1f",
   "metadata": {},
   "outputs": [
    {
     "data": {
      "text/html": [
       "<div>\n",
       "<style scoped>\n",
       "    .dataframe tbody tr th:only-of-type {\n",
       "        vertical-align: middle;\n",
       "    }\n",
       "\n",
       "    .dataframe tbody tr th {\n",
       "        vertical-align: top;\n",
       "    }\n",
       "\n",
       "    .dataframe thead th {\n",
       "        text-align: right;\n",
       "    }\n",
       "</style>\n",
       "<table border=\"1\" class=\"dataframe\">\n",
       "  <thead>\n",
       "    <tr style=\"text-align: right;\">\n",
       "      <th></th>\n",
       "      <th>politician</th>\n",
       "      <th>utterance</th>\n",
       "      <th>sejm_session</th>\n",
       "      <th>date</th>\n",
       "      <th>political_club</th>\n",
       "    </tr>\n",
       "  </thead>\n",
       "  <tbody>\n",
       "    <tr>\n",
       "      <th>8799</th>\n",
       "      <td>Poseł Adam Krzemiński</td>\n",
       "      <td>Panie Marszałku! Wysoka Izbo! Szanowna Pani Mi...</td>\n",
       "      <td>17</td>\n",
       "      <td>2024-09-12</td>\n",
       "      <td>KO</td>\n",
       "    </tr>\n",
       "  </tbody>\n",
       "</table>\n",
       "</div>"
      ],
      "text/plain": [
       "                 politician  \\\n",
       "8799  Poseł Adam Krzemiński   \n",
       "\n",
       "                                              utterance  sejm_session  \\\n",
       "8799  Panie Marszałku! Wysoka Izbo! Szanowna Pani Mi...            17   \n",
       "\n",
       "            date political_club  \n",
       "8799  2024-09-12             KO  "
      ]
     },
     "execution_count": 35,
     "metadata": {},
     "output_type": "execute_result"
    }
   ],
   "source": [
    "politicians_df.sample()"
   ]
  },
  {
   "cell_type": "markdown",
   "id": "80bbe5fa-c85c-41a2-9908-fbf0cec5f04b",
   "metadata": {
    "jp-MarkdownHeadingCollapsed": true
   },
   "source": [
    "## Zapis dataframe do excela\n",
    "plik z rozszerzeniem .xlsx"
   ]
  },
  {
   "cell_type": "code",
   "execution_count": 30,
   "id": "1d8936e1-a177-4603-83a6-742e1bf038c9",
   "metadata": {},
   "outputs": [],
   "source": [
    "politicians_df.to_excel('politycy.xlsx', index=False)"
   ]
  },
  {
   "cell_type": "markdown",
   "id": "3dbcafc8-8cc1-4a37-8c80-43b254aff01c",
   "metadata": {
    "jp-MarkdownHeadingCollapsed": true
   },
   "source": [
    "# Operowanie na zescrappowanych danych"
   ]
  },
  {
   "cell_type": "markdown",
   "id": "59b4314c-fa19-4575-a548-a70f5c6036d7",
   "metadata": {},
   "source": [
    "## Przygotowanie datasetu z excela\n",
    "- Załadowanie datasetu z wypowiedziami polityków z rozszerzeniem .csv\n",
    "- Oczyszczenie datasetu (wypowiedzi - utterance) z niepotrzebnych afixów \"\\r\" \"\\n\""
   ]
  },
  {
   "cell_type": "code",
   "execution_count": 44,
   "id": "f02461c4-37bd-442d-a52c-874b74af3dc1",
   "metadata": {},
   "outputs": [],
   "source": [
    "dataset_politycy = pd.read_csv('politycy.csv', encoding='utf-8', sep=';')\n",
    "dataset_politycy = dataset_politycy.dropna(subset=[\"utterance\", \"politician\", \"sejm_session\", \"date\", \"political_club\"])"
   ]
  },
  {
   "cell_type": "code",
   "execution_count": 45,
   "id": "5e913396-4a4a-4397-8bb1-f151f8d3776b",
   "metadata": {},
   "outputs": [],
   "source": [
    "dataset_politycy['utterance'] = dataset_politycy['utterance'].str.replace(r'[\\n\\r]', '', regex=True)"
   ]
  },
  {
   "cell_type": "code",
   "execution_count": 46,
   "id": "24781133-4658-4d77-ac54-1d214b2857ec",
   "metadata": {},
   "outputs": [
    {
     "data": {
      "text/html": [
       "<div>\n",
       "<style scoped>\n",
       "    .dataframe tbody tr th:only-of-type {\n",
       "        vertical-align: middle;\n",
       "    }\n",
       "\n",
       "    .dataframe tbody tr th {\n",
       "        vertical-align: top;\n",
       "    }\n",
       "\n",
       "    .dataframe thead th {\n",
       "        text-align: right;\n",
       "    }\n",
       "</style>\n",
       "<table border=\"1\" class=\"dataframe\">\n",
       "  <thead>\n",
       "    <tr style=\"text-align: right;\">\n",
       "      <th></th>\n",
       "      <th>politician</th>\n",
       "      <th>utterance</th>\n",
       "      <th>sejm_session</th>\n",
       "      <th>date</th>\n",
       "      <th>political_club</th>\n",
       "    </tr>\n",
       "  </thead>\n",
       "  <tbody>\n",
       "    <tr>\n",
       "      <th>684</th>\n",
       "      <td>Poseł Zbigniew Bogucki</td>\n",
       "      <td>Szanowny Panie Marszałku! Wysoki Sejmie! Jest ...</td>\n",
       "      <td>1</td>\n",
       "      <td>2023-12-06</td>\n",
       "      <td>PiS</td>\n",
       "    </tr>\n",
       "  </tbody>\n",
       "</table>\n",
       "</div>"
      ],
      "text/plain": [
       "                 politician  \\\n",
       "684  Poseł Zbigniew Bogucki   \n",
       "\n",
       "                                             utterance  sejm_session  \\\n",
       "684  Szanowny Panie Marszałku! Wysoki Sejmie! Jest ...             1   \n",
       "\n",
       "           date political_club  \n",
       "684  2023-12-06            PiS  "
      ]
     },
     "execution_count": 46,
     "metadata": {},
     "output_type": "execute_result"
    }
   ],
   "source": [
    "dataset_politycy.sample()"
   ]
  },
  {
   "cell_type": "markdown",
   "id": "91fca2b8-b9ac-4d5a-a8df-5d77a2056efb",
   "metadata": {},
   "source": [
    "## Podzielenie wypowiedzi na mniejsze segmenty\n",
    "- Wykonanie na każdym wierszu funkcji podzielenia i pofiltrowania\n",
    "- Podział wypowiedzi na zdania, punkty graniczne to między innymi kropka, przecinek, znak zapytania itp.\n",
    "- Pofiltrowanie aby w datasecie zostały TYLKO zdania zawierające więcej niż 10 wyrazów"
   ]
  },
  {
   "cell_type": "code",
   "execution_count": 55,
   "id": "d47e3a78-15f2-462e-b5ef-4c0de0ff39d8",
   "metadata": {},
   "outputs": [],
   "source": [
    "import re\n",
    "\n",
    "def split_and_filter(row):\n",
    "    sentences = re.split(r'(?<=[.!?])\\s+', row['utterance'])\n",
    "    filtered_sentences = [s for s in sentences if len(s.split()) >= 10]\n",
    "    return pd.DataFrame({'politician': row['politician'], 'utterance': filtered_sentences, 'political_club': row['political_club']})\n",
    "\n",
    "dataset_filtered_politycy = pd.concat(dataset_politycy.apply(split_and_filter, axis=1).tolist(), ignore_index=True)"
   ]
  },
  {
   "cell_type": "markdown",
   "id": "cf3e88b1-2fb1-48a6-b0a3-d637b8d3ad45",
   "metadata": {},
   "source": [
    "## Zapis dataframe do excela\n",
    "plik z rozszerzeniem .xlsx"
   ]
  },
  {
   "cell_type": "code",
   "execution_count": 56,
   "id": "753f7e64-f3dd-44e6-b030-b8cd98665058",
   "metadata": {},
   "outputs": [],
   "source": [
    "dataset_filtered_politycy.to_excel('politycy_filtered.xlsx', index=False)"
   ]
  },
  {
   "cell_type": "markdown",
   "id": "74f42d59-20ad-4bd2-b66f-4c3ca89e2664",
   "metadata": {},
   "source": [
    "# Model AI oraz embeddings"
   ]
  },
  {
   "cell_type": "markdown",
   "id": "39468b48-d6d7-4957-84e5-98b9ba371c66",
   "metadata": {},
   "source": [
    "## Przygotowanie datasetu z excela\n",
    "Załadowanie datasetu z wypowiedziami polityków z rozszerzeniem .csv"
   ]
  },
  {
   "cell_type": "code",
   "execution_count": 3,
   "id": "3ae0fb78-5fec-4de4-bbb7-32be7a32e90d",
   "metadata": {},
   "outputs": [],
   "source": [
    "dataset_filtered_politycy = pd.read_csv('politycy_filtered.csv', encoding='utf-8', sep=';')\n",
    "dataset_filtered_politycy = dataset_filtered_politycy.dropna(subset=[\"politician\", \"utterance\", 'political_club'])"
   ]
  },
  {
   "cell_type": "markdown",
   "id": "c5c71a60-2699-4d05-bbe1-c20309d7c837",
   "metadata": {},
   "source": [
    "## Załadowanie odpowiedniego modelu AI oraz stworzenie funkcji\n",
    "- funkcja get_embedding odpowiedzialna za stworzenie embeddingu na tekście\n",
    "- funkcja get_similarity porównująca podobieństwo między embeddingami przy użyciu cosine similarity "
   ]
  },
  {
   "cell_type": "code",
   "execution_count": 24,
   "id": "320b7539-6b93-4f47-9c21-09fe754fa4a9",
   "metadata": {},
   "outputs": [],
   "source": [
    "#model = SentenceTransformer('all-MiniLM-L6-v2')\n",
    "model = SentenceTransformer('paraphrase-multilingual-MiniLM-L12-v2')"
   ]
  },
  {
   "cell_type": "code",
   "execution_count": 25,
   "id": "75f962ac-b08c-4965-bc94-b20182da697f",
   "metadata": {},
   "outputs": [],
   "source": [
    "# Funkcja do konwersji tekstu na wektor (embedding)\n",
    "def get_embedding(text):\n",
    "    return model.encode(text)\n",
    "\n",
    "def get_similarity(user_input, df_embeddings):\n",
    "    # Wektor wypowiedzi użytkownika\n",
    "    user_embedding = get_embedding(user_input)\n",
    "    \n",
    "    # Oblicz podobieństwo z każdą wypowiedzią w dataset\n",
    "    similarities = []\n",
    "    for index, row in df_embeddings.iterrows():\n",
    "        politician_embedding = np.array(row['embedding'])\n",
    "        \n",
    "        similarity = cosine_similarity([user_embedding], [politician_embedding])[0][0]\n",
    "        similarities.append((similarity, row['politician'], row['utterance']))\n",
    "\n",
    "    # Posortuj podobieństwa\n",
    "    similarities.sort(reverse=True, key=lambda x: x[0])\n",
    "    \n",
    "    top_n = 4  # Weź 4 najbliższe wypowiedzi\n",
    "    avg_similarity = np.mean([sim for sim, _, _ in similarities[:top_n]])\n",
    "    \n",
    "    return avg_similarity, similarities[:top_n]"
   ]
  },
  {
   "cell_type": "markdown",
   "id": "8eda3b0e-04ef-4185-9ce8-3b8b083d98a6",
   "metadata": {},
   "source": [
    "## Konwersja dataframe'u z wypowiedziami na embeddings\n",
    "wykonanie \"get_embedding\" na każdej wypowiedzi z dataframe"
   ]
  },
  {
   "cell_type": "code",
   "execution_count": 6,
   "id": "e508b30f-c5a1-431b-a0fe-51a40c07130f",
   "metadata": {},
   "outputs": [
    {
     "name": "stderr",
     "output_type": "stream",
     "text": [
      "100%|██████████| 164100/164100 [1:08:57<00:00, 39.67it/s]\n"
     ]
    }
   ],
   "source": [
    "from tqdm import tqdm\n",
    "\n",
    "politycy_phrases_embeddings = [\n",
    "    (get_embedding(row[\"utterance\"]), row[\"politician\"], row[\"utterance\"], row['political_club']) \n",
    "    for _, row in tqdm(dataset_filtered_politycy.iterrows(), total=len(dataset_filtered_politycy))\n",
    "]"
   ]
  },
  {
   "cell_type": "code",
   "execution_count": 28,
   "id": "8096b817-438b-4806-8d16-ed37d47a7df0",
   "metadata": {},
   "outputs": [
    {
     "ename": "NameError",
     "evalue": "name 'politycy_phrases_embeddings' is not defined",
     "output_type": "error",
     "traceback": [
      "\u001b[1;31m---------------------------------------------------------------------------\u001b[0m",
      "\u001b[1;31mNameError\u001b[0m                                 Traceback (most recent call last)",
      "Cell \u001b[1;32mIn[28], line 1\u001b[0m\n\u001b[1;32m----> 1\u001b[0m df_politycy_phrases_embeddings \u001b[38;5;241m=\u001b[39m pd\u001b[38;5;241m.\u001b[39mDataFrame(politycy_phrases_embeddings, columns\u001b[38;5;241m=\u001b[39m[\u001b[38;5;124m\"\u001b[39m\u001b[38;5;124membedding\u001b[39m\u001b[38;5;124m\"\u001b[39m, \u001b[38;5;124m\"\u001b[39m\u001b[38;5;124mpolitician\u001b[39m\u001b[38;5;124m\"\u001b[39m, \u001b[38;5;124m\"\u001b[39m\u001b[38;5;124mutterance\u001b[39m\u001b[38;5;124m\"\u001b[39m, \u001b[38;5;124m'\u001b[39m\u001b[38;5;124mpolitical_club\u001b[39m\u001b[38;5;124m'\u001b[39m])\n\u001b[0;32m      2\u001b[0m \u001b[38;5;28mprint\u001b[39m(df_politycy_phrases_embeddings\u001b[38;5;241m.\u001b[39mshape)\n",
      "\u001b[1;31mNameError\u001b[0m: name 'politycy_phrases_embeddings' is not defined"
     ]
    }
   ],
   "source": [
    "df_politycy_phrases_embeddings = pd.DataFrame(politycy_phrases_embeddings, columns=[\"embedding\", \"politician\", \"utterance\", 'political_club'])\n",
    "print(df_politycy_phrases_embeddings.shape)"
   ]
  },
  {
   "cell_type": "code",
   "execution_count": 29,
   "id": "7153126b-0e57-49da-8952-341e1ef8bc3f",
   "metadata": {},
   "outputs": [
    {
     "name": "stdout",
     "output_type": "stream",
     "text": [
      "Zapisano embeddingi do pliku politycy_embeddings.xlsx!\n"
     ]
    }
   ],
   "source": [
    "data = []\n",
    "for idx, row in df_politycy_phrases_embeddings.iterrows():\n",
    "    embedding = row['embedding']  # Dostęp do kolumny 'embedding'\n",
    "    politician = row['politician']\n",
    "    utterance = row['utterance']\n",
    "    political_club = row['political_club']\n",
    "    \n",
    "    data.append({\n",
    "        \"embedding\": ','.join(map(str, embedding)),  # Zapis embeddingu jako string\n",
    "        \"politician\": politician,\n",
    "        \"utterance\": utterance,\n",
    "        \"political_club\": political_club\n",
    "    })\n",
    "\n",
    "df_politycy_phrases_embeddings = pd.DataFrame(data)\n",
    "df_politycy_phrases_embeddings.to_excel('politycy_phrases_embeddings.xlsx', index=False)"
   ]
  },
  {
   "cell_type": "code",
   "execution_count": 30,
   "id": "cf8c0192-9bae-4c88-92b3-43f793a20991",
   "metadata": {},
   "outputs": [
    {
     "data": {
      "text/html": [
       "<div>\n",
       "<style scoped>\n",
       "    .dataframe tbody tr th:only-of-type {\n",
       "        vertical-align: middle;\n",
       "    }\n",
       "\n",
       "    .dataframe tbody tr th {\n",
       "        vertical-align: top;\n",
       "    }\n",
       "\n",
       "    .dataframe thead th {\n",
       "        text-align: right;\n",
       "    }\n",
       "</style>\n",
       "<table border=\"1\" class=\"dataframe\">\n",
       "  <thead>\n",
       "    <tr style=\"text-align: right;\">\n",
       "      <th></th>\n",
       "      <th>embedding</th>\n",
       "      <th>politician</th>\n",
       "      <th>utterance</th>\n",
       "      <th>political_club</th>\n",
       "    </tr>\n",
       "  </thead>\n",
       "  <tbody>\n",
       "    <tr>\n",
       "      <th>0</th>\n",
       "      <td>-0.08385012,0.34024927,0.05296642,-0.2829197,0...</td>\n",
       "      <td>Prezydent Rzeczypospolitej Polskiej Andrzej Duda</td>\n",
       "      <td>Szanowne Panie Posłanki i Szanowni Panowie Pos...</td>\n",
       "      <td>Nieznana partia</td>\n",
       "    </tr>\n",
       "    <tr>\n",
       "      <th>1</th>\n",
       "      <td>0.06613037,0.33783805,0.32265285,0.02485717,0....</td>\n",
       "      <td>Prezydent Rzeczypospolitej Polskiej Andrzej Duda</td>\n",
       "      <td>Dziękuję, dziękuję i jeszcze raz dziękuję wszy...</td>\n",
       "      <td>Nieznana partia</td>\n",
       "    </tr>\n",
       "    <tr>\n",
       "      <th>2</th>\n",
       "      <td>-0.01098752,0.08707595,-0.07281946,0.14722022,...</td>\n",
       "      <td>Prezydent Rzeczypospolitej Polskiej Andrzej Duda</td>\n",
       "      <td>Oczywiście my, Polacy, w wielu sprawach istotn...</td>\n",
       "      <td>Nieznana partia</td>\n",
       "    </tr>\n",
       "    <tr>\n",
       "      <th>3</th>\n",
       "      <td>0.0883656591,0.131972238,-0.27648738,0.0721738...</td>\n",
       "      <td>Prezydent Rzeczypospolitej Polskiej Andrzej Duda</td>\n",
       "      <td>Prowadzimy często gorące spory i zapewne będzi...</td>\n",
       "      <td>Nieznana partia</td>\n",
       "    </tr>\n",
       "    <tr>\n",
       "      <th>4</th>\n",
       "      <td>-0.13960795,0.21945684,-0.30796283,-0.19085917...</td>\n",
       "      <td>Prezydent Rzeczypospolitej Polskiej Andrzej Duda</td>\n",
       "      <td>Najważniejsze jednak jest to, że spory te rozs...</td>\n",
       "      <td>Nieznana partia</td>\n",
       "    </tr>\n",
       "  </tbody>\n",
       "</table>\n",
       "</div>"
      ],
      "text/plain": [
       "                                           embedding  \\\n",
       "0  -0.08385012,0.34024927,0.05296642,-0.2829197,0...   \n",
       "1  0.06613037,0.33783805,0.32265285,0.02485717,0....   \n",
       "2  -0.01098752,0.08707595,-0.07281946,0.14722022,...   \n",
       "3  0.0883656591,0.131972238,-0.27648738,0.0721738...   \n",
       "4  -0.13960795,0.21945684,-0.30796283,-0.19085917...   \n",
       "\n",
       "                                         politician  \\\n",
       "0  Prezydent Rzeczypospolitej Polskiej Andrzej Duda   \n",
       "1  Prezydent Rzeczypospolitej Polskiej Andrzej Duda   \n",
       "2  Prezydent Rzeczypospolitej Polskiej Andrzej Duda   \n",
       "3  Prezydent Rzeczypospolitej Polskiej Andrzej Duda   \n",
       "4  Prezydent Rzeczypospolitej Polskiej Andrzej Duda   \n",
       "\n",
       "                                           utterance   political_club  \n",
       "0  Szanowne Panie Posłanki i Szanowni Panowie Pos...  Nieznana partia  \n",
       "1  Dziękuję, dziękuję i jeszcze raz dziękuję wszy...  Nieznana partia  \n",
       "2  Oczywiście my, Polacy, w wielu sprawach istotn...  Nieznana partia  \n",
       "3  Prowadzimy często gorące spory i zapewne będzi...  Nieznana partia  \n",
       "4  Najważniejsze jednak jest to, że spory te rozs...  Nieznana partia  "
      ]
     },
     "execution_count": 30,
     "metadata": {},
     "output_type": "execute_result"
    }
   ],
   "source": [
    "df_politycy_phrases_embeddings.head(5)"
   ]
  },
  {
   "cell_type": "markdown",
   "id": "c04e9716-a757-4aa9-87dc-543e0eeaff38",
   "metadata": {},
   "source": [
    "# Porównywanie wypowiedzi użytkownika z politykami"
   ]
  },
  {
   "cell_type": "markdown",
   "id": "e2948b09-9c72-4ccf-8522-1d2ca6ae3f01",
   "metadata": {},
   "source": [
    "## Przygotowanie datasetu z excela\n",
    "Załadowanie datasetu z wypowiedziami polityków z rozszerzeniem .csv oraz dokonanie konwersji na obiekt typu array na kolumnie \"embedding\""
   ]
  },
  {
   "cell_type": "code",
   "execution_count": 2,
   "id": "411824aa-edd8-48f9-8a8a-11c3b93d3c81",
   "metadata": {},
   "outputs": [],
   "source": [
    "df_politicians_embedded = pd.read_csv('politycy_phrases_embeddings.csv', encoding='utf-8', sep=';')\n",
    "df_politicians_embedded = df_politicians_embedded.dropna(subset=[\"embedding\", \"politician\", \"utterance\", 'political_club'])"
   ]
  },
  {
   "cell_type": "code",
   "execution_count": 4,
   "id": "23c7cf08-ed5d-4282-a0db-d1cc5dad77d9",
   "metadata": {},
   "outputs": [
    {
     "data": {
      "text/html": [
       "<div>\n",
       "<style scoped>\n",
       "    .dataframe tbody tr th:only-of-type {\n",
       "        vertical-align: middle;\n",
       "    }\n",
       "\n",
       "    .dataframe tbody tr th {\n",
       "        vertical-align: top;\n",
       "    }\n",
       "\n",
       "    .dataframe thead th {\n",
       "        text-align: right;\n",
       "    }\n",
       "</style>\n",
       "<table border=\"1\" class=\"dataframe\">\n",
       "  <thead>\n",
       "    <tr style=\"text-align: right;\">\n",
       "      <th></th>\n",
       "      <th>embedding</th>\n",
       "      <th>politician</th>\n",
       "      <th>utterance</th>\n",
       "      <th>political_club</th>\n",
       "    </tr>\n",
       "  </thead>\n",
       "  <tbody>\n",
       "    <tr>\n",
       "      <th>154386</th>\n",
       "      <td>0.09732806,-0.01931092,-0.30092317,0.09707727,...</td>\n",
       "      <td>Sekretarz Stanu w Ministerstwie Spraw Wewnętrz...</td>\n",
       "      <td>W ostatnich dniach otrzymaliśmy kwotę 55 mln e...</td>\n",
       "      <td>KO</td>\n",
       "    </tr>\n",
       "  </tbody>\n",
       "</table>\n",
       "</div>"
      ],
      "text/plain": [
       "                                                embedding  \\\n",
       "154386  0.09732806,-0.01931092,-0.30092317,0.09707727,...   \n",
       "\n",
       "                                               politician  \\\n",
       "154386  Sekretarz Stanu w Ministerstwie Spraw Wewnętrz...   \n",
       "\n",
       "                                                utterance political_club  \n",
       "154386  W ostatnich dniach otrzymaliśmy kwotę 55 mln e...             KO  "
      ]
     },
     "execution_count": 4,
     "metadata": {},
     "output_type": "execute_result"
    }
   ],
   "source": [
    "df_politicians_embedded.sample()"
   ]
  },
  {
   "cell_type": "code",
   "execution_count": 3,
   "id": "cddee22e-c525-4f4b-bd93-6df55502935d",
   "metadata": {},
   "outputs": [],
   "source": [
    "df_politicians_embedded[\"embedding\"] = df_politicians_embedded[\"embedding\"].apply(lambda x: np.array(list(map(float, x.split(',')))))"
   ]
  },
  {
   "cell_type": "code",
   "execution_count": 4,
   "id": "1832d56b-277b-405b-8b66-f98e693d1dd2",
   "metadata": {},
   "outputs": [
    {
     "name": "stdout",
     "output_type": "stream",
     "text": [
      "Liczba wierszy: 164100\n",
      "Kształt DataFrame: (164100, 4)\n"
     ]
    },
    {
     "data": {
      "text/html": [
       "<div>\n",
       "<style scoped>\n",
       "    .dataframe tbody tr th:only-of-type {\n",
       "        vertical-align: middle;\n",
       "    }\n",
       "\n",
       "    .dataframe tbody tr th {\n",
       "        vertical-align: top;\n",
       "    }\n",
       "\n",
       "    .dataframe thead th {\n",
       "        text-align: right;\n",
       "    }\n",
       "</style>\n",
       "<table border=\"1\" class=\"dataframe\">\n",
       "  <thead>\n",
       "    <tr style=\"text-align: right;\">\n",
       "      <th></th>\n",
       "      <th>embedding</th>\n",
       "      <th>politician</th>\n",
       "      <th>utterance</th>\n",
       "      <th>political_club</th>\n",
       "    </tr>\n",
       "  </thead>\n",
       "  <tbody>\n",
       "    <tr>\n",
       "      <th>104137</th>\n",
       "      <td>[0.148475915, -0.0242511909, 0.159822509, -0.0...</td>\n",
       "      <td>Poseł Waldemar Andzel</td>\n",
       "      <td>Modernizacja stopnia wodnego Rędzin na Odrze, ...</td>\n",
       "      <td>PiS</td>\n",
       "    </tr>\n",
       "  </tbody>\n",
       "</table>\n",
       "</div>"
      ],
      "text/plain": [
       "                                                embedding  \\\n",
       "104137  [0.148475915, -0.0242511909, 0.159822509, -0.0...   \n",
       "\n",
       "                   politician  \\\n",
       "104137  Poseł Waldemar Andzel   \n",
       "\n",
       "                                                utterance political_club  \n",
       "104137  Modernizacja stopnia wodnego Rędzin na Odrze, ...            PiS  "
      ]
     },
     "metadata": {},
     "output_type": "display_data"
    }
   ],
   "source": [
    "print(f\"Liczba wierszy: {len(df_politicians_embedded)}\")\n",
    "print(f\"Kształt DataFrame: {df_politicians_embedded.shape}\")\n",
    "display(df_politicians_embedded.sample())"
   ]
  },
  {
   "cell_type": "markdown",
   "id": "d5cce98e-4ee9-4469-9865-6c51353b16bd",
   "metadata": {},
   "source": [
    "## Porównywanie"
   ]
  },
  {
   "cell_type": "code",
   "execution_count": 26,
   "id": "84423b1c-d7ef-44cc-bd63-74c29e58d7a4",
   "metadata": {},
   "outputs": [
    {
     "name": "stdout",
     "output_type": "stream",
     "text": [
      "Zielona energia jest bardzo istotna i powinniśmy skupić się na rozwoju rozwiązaniach ekologicznych. Musimy redukować energię węglową i zastapić ją energią z wiatru czy z wody.\n",
      "Średnie podobieństwo: 0.7564250701458852\n",
      "Polityk: Poseł Małgorzata Pępek, Wypowiedź: Ale wszyscy wiemy, że zielona energia potrzebuje przede wszystkim stabilności regulacyjnej., Podobieństwo: 0.7627143630860421 \n",
      "\n",
      "Polityk: Poseł Tomasz Piotr Nowak, Wypowiedź: Otwieramy się na transformację energetyczną, otwieramy się na zieloną energię, ale także myślimy o stabilizacji systemu energetycznego, bo wiemy doskonale, że ta stabilizacja też musi być., Podobieństwo: 0.7616027139982423 \n",
      "\n",
      "Polityk: Poseł Bożena Lisowska, Wypowiedź: Potrzeba nam strategii budowania większego potencjału zielonej energii i inwestycji w OZE, w rozwój technologii niskoemisyjnych, w tym technologii wodorowych, które pomogą nam uzyskać autonomię energetyczną., Podobieństwo: 0.7582319404508394 \n",
      "\n",
      "Polityk: Poseł Urszula Pasławska, Wypowiedź: Przyspieszy to odchodzenie od węgla na rzecz czystej, zielonej energii., Podobieństwo: 0.7431512630484169 \n",
      "\n"
     ]
    }
   ],
   "source": [
    "user_input = \"Zielona energia jest bardzo istotna i powinniśmy skupić się na rozwoju rozwiązaniach ekologicznych. Musimy redukować energię węglową i zastapić ją energią z wiatru czy z wody.\"\n",
    "#user_input = \"Polacy potrzebują legalnej aborcji, ponieważ to jest prawo kobiety i nie można przymuszać kobiet.\"\n",
    "#user_input = \"Aborcja to zabójstwo dziecka i nie można tego zalegalizować. Jest to sprzeczne z jakimikolwiek prawami moralnymi i religijnymi\"\n",
    "#user_input = \"Aborcja powinna być dozwolona w przypadku gwaltu, ciężkiej choroby dziecka lub możliwej śmierci matki. Ale nigdy nie dozwolona na życzenie.\"\n",
    "#user_input = \"Prawo do posiadania broni powinno być dozwolone dla przeciętnego obywatela. Ludzie muszą mieć możliwość obrony wlasnej.\"\n",
    "\n",
    "avg_similarity, top_similarities = get_similarity(user_input, df_politycy_phrases_embeddings)\n",
    "\n",
    "print(user_input)\n",
    "print(f\"Średnie podobieństwo: {avg_similarity}\")\n",
    "for similarity, politician, utterance in top_similarities:\n",
    "    print(f\"Polityk: {politician}, Wypowiedź: {utterance}, Podobieństwo: {similarity} \\n\")"
   ]
  },
  {
   "cell_type": "code",
   "execution_count": 6,
   "id": "96e0fdcb-1900-4b5f-b1f6-ba7247344fd7",
   "metadata": {},
   "outputs": [],
   "source": [
    "from sklearn.model_selection import train_test_split\n",
    "from sklearn.linear_model import LogisticRegression\n",
    "from sklearn.metrics import accuracy_score, classification_report\n",
    "import torch\n",
    "from tqdm import tqdm\n",
    "from sklearn.ensemble import RandomForestClassifier\n",
    "import xgboost as xgb\n"
   ]
  },
  {
   "cell_type": "code",
   "execution_count": 8,
   "id": "5a21efb6-7635-4583-9f0a-044ab7cab38e",
   "metadata": {},
   "outputs": [
    {
     "name": "stderr",
     "output_type": "stream",
     "text": [
      "I:\\Anaconda\\Lib\\site-packages\\sklearn\\linear_model\\_logistic.py:1256: FutureWarning: 'multi_class' was deprecated in version 1.5 and will be removed in 1.7. Use OneVsRestClassifier(LogisticRegression(..)) instead. Leave it to its default value to avoid this warning.\n",
      "  warnings.warn(\n",
      "Training Progress: 100%|██████████| 131280/131280 [00:19<00:00, 6898.76sample/s]\n"
     ]
    },
    {
     "name": "stdout",
     "output_type": "stream",
     "text": [
      "Dokładność (Accuracy): 0.3723948811700183\n"
     ]
    },
    {
     "name": "stderr",
     "output_type": "stream",
     "text": [
      "I:\\Anaconda\\Lib\\site-packages\\sklearn\\metrics\\_classification.py:1531: UndefinedMetricWarning: Precision is ill-defined and being set to 0.0 in labels with no predicted samples. Use `zero_division` parameter to control this behavior.\n",
      "  _warn_prf(average, modifier, f\"{metric.capitalize()} is\", len(result))\n"
     ]
    },
    {
     "name": "stdout",
     "output_type": "stream",
     "text": [
      "\n",
      "Raport klasyfikacji:\n",
      "                  precision    recall  f1-score   support\n",
      "\n",
      "             KO       0.35      0.54      0.42      9070\n",
      "   Konfederacja       0.31      0.04      0.07      2291\n",
      "         Lewica       0.38      0.05      0.09      2181\n",
      "Nieznana partia       0.37      0.19      0.25      3022\n",
      "         PSL-TD       0.38      0.06      0.10      2260\n",
      "            PiS       0.39      0.67      0.50      9358\n",
      "  Polska2050-TD       0.52      0.04      0.07      2787\n",
      "          Razem       0.27      0.00      0.01       622\n",
      "   Republikanie       0.33      0.01      0.02       772\n",
      "          niez.       0.00      0.00      0.00       457\n",
      "\n",
      "       accuracy                           0.37     32820\n",
      "      macro avg       0.33      0.16      0.15     32820\n",
      "   weighted avg       0.37      0.37      0.31     32820\n",
      "\n"
     ]
    },
    {
     "name": "stderr",
     "output_type": "stream",
     "text": [
      "I:\\Anaconda\\Lib\\site-packages\\sklearn\\metrics\\_classification.py:1531: UndefinedMetricWarning: Precision is ill-defined and being set to 0.0 in labels with no predicted samples. Use `zero_division` parameter to control this behavior.\n",
      "  _warn_prf(average, modifier, f\"{metric.capitalize()} is\", len(result))\n",
      "I:\\Anaconda\\Lib\\site-packages\\sklearn\\metrics\\_classification.py:1531: UndefinedMetricWarning: Precision is ill-defined and being set to 0.0 in labels with no predicted samples. Use `zero_division` parameter to control this behavior.\n",
      "  _warn_prf(average, modifier, f\"{metric.capitalize()} is\", len(result))\n"
     ]
    }
   ],
   "source": [
    "\n",
    "# 3. Podział na zbiór treningowy i testowy (80% / 20%)\n",
    "X = np.vstack(df_politicians_embedded['embedding'])  # Zbudowanie macierzy z embeddingów\n",
    "y = df_politicians_embedded['political_club'].values  # Etykiety partii (kolumna 'political_club')\n",
    "\n",
    "X_train, X_test, y_train, y_test = train_test_split(X, y, test_size=0.2, random_state=42)\n",
    "\n",
    "# 4. Trening modelu klasyfikacyjnego - np. regresja logistyczna\n",
    "model = LogisticRegression(max_iter=500, multi_class='ovr')\n",
    "\n",
    "with tqdm(total=X_train.shape[0], desc=\"Training Progress\", unit=\"sample\") as pbar:\n",
    "    model.fit(X_train, y_train)\n",
    "    pbar.update(X_train.shape[0])  # Gdy model zakończy trening, zaktualizuj postęp\n",
    "\n",
    "# 5. Predykcja i ocena modelu\n",
    "y_pred = model.predict(X_test)\n",
    "\n",
    "# 6. Ocena modelu\n",
    "print(\"Dokładność (Accuracy):\", accuracy_score(y_test, y_pred))\n",
    "print(\"\\nRaport klasyfikacji:\\n\", classification_report(y_test, y_pred))\n"
   ]
  },
  {
   "cell_type": "code",
   "execution_count": 9,
   "id": "3b855674-353f-48a3-b35d-ee6244d35a63",
   "metadata": {},
   "outputs": [
    {
     "name": "stderr",
     "output_type": "stream",
     "text": [
      "Training Random Forest: 100%|██████████| 20/20 [10:11<00:00, 30.58s/tree]\n"
     ]
    },
    {
     "name": "stdout",
     "output_type": "stream",
     "text": [
      "Dokładność (Accuracy): 0.32269957343083483\n",
      "\n",
      "Raport klasyfikacji:\n",
      "                  precision    recall  f1-score   support\n",
      "\n",
      "             KO       0.31      0.55      0.40      9070\n",
      "   Konfederacja       0.15      0.02      0.04      2291\n",
      "         Lewica       0.16      0.03      0.05      2181\n",
      "Nieznana partia       0.20      0.06      0.10      3022\n",
      "         PSL-TD       0.27      0.04      0.07      2260\n",
      "            PiS       0.36      0.54      0.43      9358\n",
      "  Polska2050-TD       0.24      0.04      0.06      2787\n",
      "          Razem       0.00      0.00      0.00       622\n",
      "   Republikanie       0.20      0.00      0.00       772\n",
      "          niez.       0.00      0.00      0.00       457\n",
      "\n",
      "       accuracy                           0.32     32820\n",
      "      macro avg       0.19      0.13      0.12     32820\n",
      "   weighted avg       0.27      0.32      0.26     32820\n",
      "\n"
     ]
    }
   ],
   "source": [
    "# Załóżmy, że masz już dane: df_politicians_embedded\n",
    "X = np.vstack(df_politicians_embedded['embedding'])\n",
    "y = df_politicians_embedded['political_club'].values\n",
    "\n",
    "# Podział na dane treningowe i testowe\n",
    "X_train, X_test, y_train, y_test = train_test_split(X, y, test_size=0.2, random_state=42)\n",
    "\n",
    "# Trening modelu Random Forest\n",
    "n_estimators = 20  # Liczba drzew w lesie\n",
    "model = RandomForestClassifier(n_estimators=n_estimators, n_jobs=-1, random_state=42)\n",
    "\n",
    "# Ręczne monitorowanie postępu treningu\n",
    "with tqdm(total=n_estimators, desc=\"Training Random Forest\", unit=\"tree\") as pbar:\n",
    "    for _ in range(n_estimators):\n",
    "        model.fit(X_train, y_train)  # Trenuj jeden model\n",
    "        pbar.update(1)  # Zaktualizuj pasek po każdej iteracji\n",
    "\n",
    "# Predykcja\n",
    "y_pred = model.predict(X_test)\n",
    "\n",
    "# Ocena modelu\n",
    "print(\"Dokładność (Accuracy):\", accuracy_score(y_test, y_pred))\n",
    "print(\"\\nRaport klasyfikacji:\\n\", classification_report(y_test, y_pred))\n"
   ]
  },
  {
   "cell_type": "code",
   "execution_count": 11,
   "id": "1877a91c-9a55-4dab-80ba-5645b8526298",
   "metadata": {},
   "outputs": [
    {
     "name": "stdout",
     "output_type": "stream",
     "text": [
      "political_club\n",
      "PiS                47370\n",
      "KO                 44674\n",
      "Nieznana partia    15186\n",
      "Polska2050-TD      13977\n",
      "Konfederacja       11517\n",
      "PSL-TD             11337\n",
      "Lewica             11080\n",
      "Republikanie        3756\n",
      "Razem               2964\n",
      "niez.               2239\n",
      "Name: count, dtype: int64\n"
     ]
    }
   ],
   "source": [
    "party_counts = df_politicians_embedded['political_club'].value_counts()\n",
    "\n",
    "print(party_counts)"
   ]
  },
  {
   "cell_type": "code",
   "execution_count": 17,
   "id": "058dc67b-288c-46eb-a2c2-47851b9f0149",
   "metadata": {},
   "outputs": [
    {
     "name": "stderr",
     "output_type": "stream",
     "text": [
      "I:\\Anaconda\\Lib\\site-packages\\xgboost\\training.py:183: UserWarning: [04:43:41] WARNING: C:\\actions-runner\\_work\\xgboost\\xgboost\\src\\learner.cc:738: \n",
      "Parameters: { \"use_label_encoder\" } are not used.\n",
      "\n",
      "  bst.update(dtrain, iteration=i, fobj=obj)\n",
      "Training XGBoost: 100%|██████████| 131280/131280 [01:48<00:00, 1208.59sample/s]"
     ]
    },
    {
     "name": "stdout",
     "output_type": "stream",
     "text": [
      "Dokładność (Accuracy): 0.3705971968312005\n",
      "\n",
      "Raport klasyfikacji:\n",
      "               precision    recall  f1-score   support\n",
      "\n",
      "           0       0.35      0.55      0.43      9070\n",
      "           1       0.25      0.04      0.07      2291\n",
      "           2       0.34      0.05      0.09      2181\n",
      "           3       0.33      0.16      0.21      3022\n",
      "           4       0.39      0.07      0.12      2260\n",
      "           5       0.40      0.66      0.50      9358\n",
      "           6       0.34      0.04      0.08      2787\n",
      "           7       0.30      0.01      0.02       622\n",
      "           8       0.21      0.01      0.01       772\n",
      "           9       0.00      0.00      0.00       457\n",
      "\n",
      "    accuracy                           0.37     32820\n",
      "   macro avg       0.29      0.16      0.15     32820\n",
      "weighted avg       0.35      0.37      0.31     32820\n",
      "\n"
     ]
    },
    {
     "name": "stderr",
     "output_type": "stream",
     "text": [
      "\n"
     ]
    }
   ],
   "source": [
    "from xgboost import XGBClassifier\n",
    "from sklearn.preprocessing import LabelEncoder\n",
    "\n",
    "# 3. Podział na zbiór treningowy i testowy (80% / 20%)\n",
    "X = np.vstack(df_politicians_embedded['embedding'])  # Zbudowanie macierzy z embeddingów\n",
    "y = df_politicians_embedded['political_club'].values  # Etykiety partii (kolumna 'political_club')\n",
    "\n",
    "# Kodowanie etykiet jako liczby\n",
    "label_encoder = LabelEncoder()\n",
    "y_encoded = label_encoder.fit_transform(y)\n",
    "\n",
    "X_train, X_test, y_train, y_test = train_test_split(X, y_encoded, test_size=0.2, random_state=42)\n",
    "\n",
    "# 4. Trening modelu XGBoost\n",
    "model = XGBClassifier(max_depth=6, n_estimators=50, use_label_encoder=False, eval_metric='mlogloss')\n",
    "\n",
    "# Możemy użyć tqdm do śledzenia postępu, ale XGBoost sam obsługuje iteracje\n",
    "with tqdm(total=X_train.shape[0], desc=\"Training XGBoost\", unit=\"sample\") as pbar:\n",
    "    model.fit(X_train, y_train)\n",
    "    pbar.update(X_train.shape[0])  # Gdy model zakończy trening, zaktualizuj postęp\n",
    "\n",
    "# 5. Predykcja i ocena modelu\n",
    "y_pred = model.predict(X_test)\n",
    "\n",
    "# 6. Ocena modelu\n",
    "print(\"Dokładność (Accuracy):\", accuracy_score(y_test, y_pred))\n",
    "print(\"\\nRaport klasyfikacji:\\n\", classification_report(y_test, y_pred))"
   ]
  },
  {
   "cell_type": "code",
   "execution_count": 18,
   "id": "ac3e334c-94c3-43a9-b8c7-8f686905c0d3",
   "metadata": {},
   "outputs": [
    {
     "name": "stdout",
     "output_type": "stream",
     "text": [
      "Requirement already satisfied: imbalanced-learn in i:\\anaconda\\lib\\site-packages (0.12.3)\n",
      "Requirement already satisfied: numpy>=1.17.3 in i:\\anaconda\\lib\\site-packages (from imbalanced-learn) (1.26.4)\n",
      "Requirement already satisfied: scipy>=1.5.0 in i:\\anaconda\\lib\\site-packages (from imbalanced-learn) (1.13.1)\n",
      "Requirement already satisfied: scikit-learn>=1.0.2 in i:\\anaconda\\lib\\site-packages (from imbalanced-learn) (1.5.1)\n",
      "Requirement already satisfied: joblib>=1.1.1 in i:\\anaconda\\lib\\site-packages (from imbalanced-learn) (1.4.2)\n",
      "Requirement already satisfied: threadpoolctl>=2.0.0 in i:\\anaconda\\lib\\site-packages (from imbalanced-learn) (3.5.0)\n",
      "Note: you may need to restart the kernel to use updated packages.\n"
     ]
    }
   ],
   "source": [
    "!pip install imbalanced-learn"
   ]
  },
  {
   "cell_type": "code",
   "execution_count": 21,
   "id": "d2bfbe20-ac96-412f-900f-6c7144e135b0",
   "metadata": {},
   "outputs": [
    {
     "name": "stderr",
     "output_type": "stream",
     "text": [
      "I:\\Anaconda\\Lib\\site-packages\\xgboost\\training.py:183: UserWarning: [04:51:30] WARNING: C:\\actions-runner\\_work\\xgboost\\xgboost\\src\\learner.cc:738: \n",
      "Parameters: { \"use_label_encoder\" } are not used.\n",
      "\n",
      "  bst.update(dtrain, iteration=i, fobj=obj)\n",
      "Training XGBoost: 100%|██████████| 17820/17820 [00:32<00:00, 548.39sample/s]\n"
     ]
    },
    {
     "name": "stdout",
     "output_type": "stream",
     "text": [
      "Dokładność (Accuracy): 0.1765386959171237\n",
      "\n",
      "Raport klasyfikacji:\n",
      "               precision    recall  f1-score   support\n",
      "\n",
      "           0       0.37      0.13      0.19      9070\n",
      "           1       0.14      0.18      0.15      2291\n",
      "           2       0.13      0.19      0.15      2181\n",
      "           3       0.22      0.30      0.25      3022\n",
      "           4       0.15      0.22      0.18      2260\n",
      "           5       0.43      0.16      0.23      9358\n",
      "           6       0.14      0.16      0.15      2787\n",
      "           7       0.06      0.26      0.10       622\n",
      "           8       0.06      0.28      0.10       772\n",
      "           9       0.03      0.25      0.06       457\n",
      "\n",
      "    accuracy                           0.18     32820\n",
      "   macro avg       0.17      0.21      0.16     32820\n",
      "weighted avg       0.29      0.18      0.19     32820\n",
      "\n"
     ]
    }
   ],
   "source": [
    "from xgboost import XGBClassifier\n",
    "from sklearn.preprocessing import LabelEncoder\n",
    "from imblearn.under_sampling import RandomUnderSampler\n",
    "\n",
    "# Podział na dane treningowe i testowe (80/20)\n",
    "X = np.vstack(df_politicians_embedded['embedding'])  # Zbudowanie macierzy z embeddingów\n",
    "y = df_politicians_embedded['political_club'].values  # Etykiety partii (kolumna 'political_club')\n",
    "\n",
    "# Kodowanie etykiet jako liczby\n",
    "label_encoder = LabelEncoder()\n",
    "y_encoded = label_encoder.fit_transform(y)\n",
    "\n",
    "X_train, X_test, y_train, y_test = train_test_split(X, y_encoded, test_size=0.2, random_state=42)\n",
    "\n",
    "# Zastosowanie undersamplingu, aby zredukować liczbę próbek w większych klasach\n",
    "undersampler = RandomUnderSampler(random_state=42)\n",
    "X_train_res, y_train_res = undersampler.fit_resample(X_train, y_train)\n",
    "\n",
    "# 4. Trening modelu XGBoost\n",
    "model = XGBClassifier(max_depth=6, n_estimators=50, use_label_encoder=False, eval_metric='mlogloss')\n",
    "\n",
    "# Możemy użyć tqdm do śledzenia postępu, ale XGBoost sam obsługuje iteracje\n",
    "with tqdm(total=X_train_res.shape[0], desc=\"Training XGBoost\", unit=\"sample\") as pbar:\n",
    "    model.fit(X_train_res, y_train_res)\n",
    "    pbar.update(X_train_res.shape[0])  # Gdy model zakończy trening, zaktualizuj postęp\n",
    "\n",
    "# 5. Predykcja i ocena modelu\n",
    "y_pred = model.predict(X_test)\n",
    "\n",
    "# 6. Ocena modelu\n",
    "print(\"Dokładność (Accuracy):\", accuracy_score(y_test, y_pred))\n",
    "print(\"\\nRaport klasyfikacji:\\n\", classification_report(y_test, y_pred))"
   ]
  },
  {
   "cell_type": "code",
   "execution_count": 25,
   "id": "7a096302-9206-427f-90d7-853330d73d0a",
   "metadata": {},
   "outputs": [
    {
     "name": "stderr",
     "output_type": "stream",
     "text": [
      "I:\\Anaconda\\Lib\\site-packages\\xgboost\\training.py:183: UserWarning: [04:57:11] WARNING: C:\\actions-runner\\_work\\xgboost\\xgboost\\src\\learner.cc:738: \n",
      "Parameters: { \"use_label_encoder\" } are not used.\n",
      "\n",
      "  bst.update(dtrain, iteration=i, fobj=obj)\n",
      "Training XGBoost: 100%|██████████| 380120/380120 [04:35<00:00, 1378.21sample/s]\n"
     ]
    },
    {
     "name": "stdout",
     "output_type": "stream",
     "text": [
      "Dokładność (Accuracy): 0.2626447288238879\n",
      "\n",
      "Raport klasyfikacji:\n",
      "               precision    recall  f1-score   support\n",
      "\n",
      "           0       0.38      0.24      0.29      9070\n",
      "           1       0.18      0.23      0.20      2291\n",
      "           2       0.18      0.21      0.20      2181\n",
      "           3       0.25      0.35      0.30      3022\n",
      "           4       0.18      0.23      0.20      2260\n",
      "           5       0.44      0.33      0.38      9358\n",
      "           6       0.18      0.16      0.17      2787\n",
      "           7       0.09      0.22      0.12       622\n",
      "           8       0.08      0.23      0.12       772\n",
      "           9       0.04      0.12      0.06       457\n",
      "\n",
      "    accuracy                           0.26     32820\n",
      "   macro avg       0.20      0.23      0.20     32820\n",
      "weighted avg       0.31      0.26      0.28     32820\n",
      "\n"
     ]
    }
   ],
   "source": [
    "from imblearn.over_sampling import SMOTE\n",
    "from xgboost import XGBClassifier\n",
    "from sklearn.model_selection import train_test_split\n",
    "from sklearn.preprocessing import LabelEncoder\n",
    "from sklearn.metrics import accuracy_score, classification_report\n",
    "import numpy as np\n",
    "from tqdm import tqdm\n",
    "\n",
    "# Załóżmy, że X i y to dane i etykiety\n",
    "X = np.vstack(df_politicians_embedded['embedding'])  # Macierz embeddingów\n",
    "y = df_politicians_embedded['political_club'].values  # Etykiety klas\n",
    "\n",
    "# Kodowanie etykiet jako liczby (jeśli etykiety są tekstowe)\n",
    "label_encoder = LabelEncoder()\n",
    "y_encoded = label_encoder.fit_transform(y)\n",
    "\n",
    "# Podział na zbiór treningowy i testowy\n",
    "X_train, X_test, y_train, y_test = train_test_split(X, y_encoded, test_size=0.2, random_state=42)\n",
    "\n",
    "# Zastosowanie SMOTE (oversampling mniejszych klas)\n",
    "smote = SMOTE(random_state=42)\n",
    "X_train_res, y_train_res = smote.fit_resample(X_train, y_train)\n",
    "\n",
    "# Inicjalizacja modelu XGBoost\n",
    "model = XGBClassifier(max_depth=6, n_estimators=50, use_label_encoder=False, eval_metric='mlogloss')\n",
    "\n",
    "# Trening modelu XGBoost na zbalansowanym zbiorze\n",
    "with tqdm(total=X_train_res.shape[0], desc=\"Training XGBoost\", unit=\"sample\") as pbar:\n",
    "    model.fit(X_train_res, y_train_res)\n",
    "    pbar.update(X_train_res.shape[0])\n",
    "\n",
    "# Predykcja na zbiorze testowym\n",
    "y_pred = model.predict(X_test)\n",
    "\n",
    "# Ocena modelu\n",
    "print(\"Dokładność (Accuracy):\", accuracy_score(y_test, y_pred))\n",
    "print(\"\\nRaport klasyfikacji:\\n\", classification_report(y_test, y_pred))\n",
    "\n"
   ]
  },
  {
   "cell_type": "code",
   "execution_count": null,
   "id": "f8bcd34d-16ee-4de7-8e9e-b764bc7440a0",
   "metadata": {},
   "outputs": [],
   "source": []
  }
 ],
 "metadata": {
  "kernelspec": {
   "display_name": "Python 3 (ipykernel)",
   "language": "python",
   "name": "python3"
  },
  "language_info": {
   "codemirror_mode": {
    "name": "ipython",
    "version": 3
   },
   "file_extension": ".py",
   "mimetype": "text/x-python",
   "name": "python",
   "nbconvert_exporter": "python",
   "pygments_lexer": "ipython3",
   "version": "3.12.3"
  }
 },
 "nbformat": 4,
 "nbformat_minor": 5
}
